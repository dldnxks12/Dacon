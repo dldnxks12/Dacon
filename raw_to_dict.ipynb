{
 "cells": [
  {
   "cell_type": "code",
   "execution_count": 1,
   "source": [
    "# for colab\n",
    "# from google.colab import drive\n",
    "# drive.mount('/content/drive', force_remount=True)\n",
    "\n",
    "# import os\n",
    "# os.chdir('/content/drive/MyDrive/Monthly_Workout')"
   ],
   "outputs": [],
   "metadata": {}
  },
  {
   "cell_type": "code",
   "execution_count": 2,
   "source": [
    "import pandas as pd\n",
    "import matplotlib.pyplot as plt\n",
    "import os"
   ],
   "outputs": [],
   "metadata": {}
  },
  {
   "cell_type": "markdown",
   "source": [
    "## 경로 지정\n",
    "\n",
    "- img_path : 클래스별 이미지 폴더가 저장 될 상위 디렉토리\n",
    "- train_x : train_features\n",
    "- train_y : train_labels"
   ],
   "metadata": {}
  },
  {
   "cell_type": "code",
   "execution_count": 3,
   "source": [
    "img_path = './figs' #이미지를 저장할 디렉토리\n",
    "\n",
    "train_x = pd.read_csv('./data/train_features.csv') #train feature load\n",
    "train_y = pd.read_csv('./data/train_labels.csv') #label load"
   ],
   "outputs": [],
   "metadata": {}
  },
  {
   "cell_type": "code",
   "execution_count": 4,
   "source": [
    "# 라벨 딕셔너리 생성\n",
    "# label과 label_description의 딕셔너리 생성, 이후에 폴더와 이미지 이름 지정에 활용\n",
    "\n",
    "label_dict = dict()\n",
    "for label, label_desc in zip(train_y.label, train_y.label_desc):\n",
    "    label_dict[label] = label_desc\n",
    "label_dict[45] ='Squat (kettlebell , goblet)'"
   ],
   "outputs": [],
   "metadata": {}
  },
  {
   "cell_type": "code",
   "execution_count": 5,
   "source": [
    "# 이미지 생성\n",
    "for target_label in range(len(label_dict)):\n",
    "    print(label_dict[target_label])\n",
    "    target_ids = train_y[(train_y.label ==target_label)].id.to_numpy()\n",
    "    temp_label_path = os.path.join(img_path,label_dict[target_label])\n",
    "    os.mkdir(temp_label_path)\n",
    "    for num, id_ in enumerate(target_ids):\n",
    "        temp_features = train_x.loc[train_x.id == id_, 'acc_x': 'gy_z']\n",
    "        plt.figure(figsize = (10,10))\n",
    "        temp_features.plot()\n",
    "        plt.savefig(os.path.join(temp_label_path,label_dict[target_label]+str(num)))\n",
    "        plt.clf()\n",
    "        plt.close('all')"
   ],
   "outputs": [
    {
     "output_type": "stream",
     "name": "stdout",
     "text": [
      "Arm Band Adjustment\n",
      "Band Pull-Down Row\n",
      "Bicep Curl\n",
      "Biceps Curl (band)\n",
      "Burpee\n",
      "Butterfly Sit-up\n",
      "Chest Press (rack)\n",
      "Crunch\n",
      "Device on Table\n",
      "Dip\n",
      "Dumbbell Deadlift Row\n",
      "Dumbbell Row (knee on bench) (label spans both arms)\n",
      "Dumbbell Row (knee on bench) (left arm)\n",
      "Dumbbell Row (knee on bench) (right arm)\n",
      "Dumbbell Squat (hands at side)\n",
      "Dynamic Stretch (at your own pace)\n",
      "Elliptical machine\n",
      "Fast Alternating Punches\n",
      "Jump Rope\n",
      "Jumping Jacks\n",
      "Kettlebell Swing\n",
      "Lateral Raise\n",
      "Lawnmower (left arm)\n",
      "Lawnmower (right arm)\n",
      "Lunge (alternating both legs, weight optional)\n",
      "Medicine Ball Slam\n",
      "Non-Exercise\n",
      "Overhead Triceps Extension\n",
      "Plank\n",
      "Power Boat pose\n",
      "Pushup (knee or foot variation)\n",
      "Pushups\n",
      "Repetitive Stretching\n",
      "Rowing machine\n",
      "Running (treadmill)\n",
      "Russian Twist\n",
      "Seated Back Fly\n",
      "Shoulder Press (dumbbell)\n",
      "Side Plank Left side\n",
      "Side Plank Right side\n",
      "Sit-up (hands positioned behind head)\n",
      "Sit-ups\n",
      "Squat\n",
      "Squat (arms in front of body, parallel to ground)\n",
      "Squat (hands behind head)\n",
      "Squat (kettlebell , goblet)\n",
      "Squat Jump\n",
      "Squat Rack Shoulder Press\n",
      "Static Stretch (at your own pace)\n",
      "Static stretch\n",
      "Tap Right Device\n",
      "Triceps Kickback (knee on bench) (label spans both arms)\n",
      "Triceps Kickback (knee on bench) (left arm)\n",
      "Triceps Kickback (knee on bench) (right arm)\n",
      "Triceps extension (lying down)\n",
      "Two-arm Dumbbell Curl (both arms, not alternating)\n",
      "V-up\n",
      "Walk\n",
      "Walking lunge\n",
      "Wall Ball\n",
      "Wall Squat\n"
     ]
    }
   ],
   "metadata": {}
  },
  {
   "cell_type": "code",
   "execution_count": null,
   "source": [],
   "outputs": [],
   "metadata": {}
  }
 ],
 "metadata": {
  "orig_nbformat": 4,
  "language_info": {
   "name": "python",
   "version": "3.9.7",
   "mimetype": "text/x-python",
   "codemirror_mode": {
    "name": "ipython",
    "version": 3
   },
   "pygments_lexer": "ipython3",
   "nbconvert_exporter": "python",
   "file_extension": ".py"
  },
  "kernelspec": {
   "name": "python3",
   "display_name": "Python 3.9.7 64-bit ('ai': venv)"
  },
  "interpreter": {
   "hash": "fc0c2caf563c1be737fdd322fd6f0953b189bb5c201580200b3fe4ffa182280b"
  }
 },
 "nbformat": 4,
 "nbformat_minor": 2
}