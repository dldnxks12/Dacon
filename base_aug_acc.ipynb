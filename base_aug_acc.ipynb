{
  "nbformat": 4,
  "nbformat_minor": 0,
  "metadata": {
    "colab": {
      "name": "base_aug_acc.ipynb",
      "provenance": [],
      "collapsed_sections": [
        "NKXFNHPPGcrj",
        "5W-uEQ9dGlvN",
        "4EyoxtXEI0T-",
        "ecUVU60qI-_z",
        "_PZVkHhFL7m7"
      ]
    },
    "kernelspec": {
      "name": "python3",
      "display_name": "Python 3"
    },
    "language_info": {
      "name": "python"
    }
  },
  "cells": [
    {
      "cell_type": "markdown",
      "metadata": {
        "id": "NKXFNHPPGcrj"
      },
      "source": [
        "# **Data import & import**"
      ]
    },
    {
      "cell_type": "code",
      "metadata": {
        "colab": {
          "base_uri": "https://localhost:8080/"
        },
        "id": "CG3pZuVWg6cq",
        "outputId": "bc7b1969-f543-486a-ed8e-dedb0b7197a1"
      },
      "source": [
        "from google.colab import drive\n",
        "drive.mount('/content/drive')"
      ],
      "execution_count": 49,
      "outputs": [
        {
          "output_type": "stream",
          "name": "stdout",
          "text": [
            "Drive already mounted at /content/drive; to attempt to forcibly remount, call drive.mount(\"/content/drive\", force_remount=True).\n"
          ]
        }
      ]
    },
    {
      "cell_type": "code",
      "metadata": {
        "id": "f3EpmdZEhHgq"
      },
      "source": [
        "import os\n",
        "os.chdir('/content/drive/MyDrive/Colab Notebooks/AI hackathon/data/')"
      ],
      "execution_count": 50,
      "outputs": []
    },
    {
      "cell_type": "code",
      "metadata": {
        "id": "_m1swsDahSrD"
      },
      "source": [
        "import random\n",
        "import pandas as pd\n",
        "import numpy as np\n",
        "import matplotlib.pyplot as plt\n",
        "from scipy.interpolate import CubicSpline\n",
        "from scipy.integrate import cumtrapz\n",
        "from tqdm import tqdm\n",
        "from sklearn.preprocessing import StandardScaler\n",
        "\n",
        "train_features =pd.read_csv('train_features.csv')\n",
        "train_labels = pd.read_csv('train_labels.csv')\n",
        "test = pd.read_csv('test_features.csv')\n",
        "submission = pd.read_csv('sample_submission.csv')"
      ],
      "execution_count": 51,
      "outputs": []
    },
    {
      "cell_type": "markdown",
      "metadata": {
        "id": "5W-uEQ9dGlvN"
      },
      "source": [
        "# **Data Observation**\n",
        "index 26 : Non-Exercise \n",
        "\n",
        "id, 600\n",
        "\n",
        "train data 3125\n",
        "\n",
        "test data 782\n",
        "\n"
      ]
    },
    {
      "cell_type": "code",
      "metadata": {
        "colab": {
          "base_uri": "https://localhost:8080/",
          "height": 0
        },
        "id": "2SAaeijZhbL-",
        "outputId": "cc64e96a-610a-4e90-fd18-189d6ef5dd09"
      },
      "source": [
        "train_features"
      ],
      "execution_count": 52,
      "outputs": [
        {
          "output_type": "execute_result",
          "data": {
            "text/html": [
              "<div>\n",
              "<style scoped>\n",
              "    .dataframe tbody tr th:only-of-type {\n",
              "        vertical-align: middle;\n",
              "    }\n",
              "\n",
              "    .dataframe tbody tr th {\n",
              "        vertical-align: top;\n",
              "    }\n",
              "\n",
              "    .dataframe thead th {\n",
              "        text-align: right;\n",
              "    }\n",
              "</style>\n",
              "<table border=\"1\" class=\"dataframe\">\n",
              "  <thead>\n",
              "    <tr style=\"text-align: right;\">\n",
              "      <th></th>\n",
              "      <th>id</th>\n",
              "      <th>time</th>\n",
              "      <th>acc_x</th>\n",
              "      <th>acc_y</th>\n",
              "      <th>acc_z</th>\n",
              "      <th>gy_x</th>\n",
              "      <th>gy_y</th>\n",
              "      <th>gy_z</th>\n",
              "    </tr>\n",
              "  </thead>\n",
              "  <tbody>\n",
              "    <tr>\n",
              "      <th>0</th>\n",
              "      <td>0</td>\n",
              "      <td>0</td>\n",
              "      <td>1.206087</td>\n",
              "      <td>-0.179371</td>\n",
              "      <td>-0.148447</td>\n",
              "      <td>-0.591608</td>\n",
              "      <td>-30.549010</td>\n",
              "      <td>-31.676112</td>\n",
              "    </tr>\n",
              "    <tr>\n",
              "      <th>1</th>\n",
              "      <td>0</td>\n",
              "      <td>1</td>\n",
              "      <td>1.287696</td>\n",
              "      <td>-0.198974</td>\n",
              "      <td>-0.182444</td>\n",
              "      <td>0.303100</td>\n",
              "      <td>-39.139103</td>\n",
              "      <td>-24.927216</td>\n",
              "    </tr>\n",
              "    <tr>\n",
              "      <th>2</th>\n",
              "      <td>0</td>\n",
              "      <td>2</td>\n",
              "      <td>1.304609</td>\n",
              "      <td>-0.195114</td>\n",
              "      <td>-0.253382</td>\n",
              "      <td>-3.617278</td>\n",
              "      <td>-44.122565</td>\n",
              "      <td>-25.019629</td>\n",
              "    </tr>\n",
              "    <tr>\n",
              "      <th>3</th>\n",
              "      <td>0</td>\n",
              "      <td>3</td>\n",
              "      <td>1.293095</td>\n",
              "      <td>-0.230366</td>\n",
              "      <td>-0.215210</td>\n",
              "      <td>2.712986</td>\n",
              "      <td>-53.597843</td>\n",
              "      <td>-27.454013</td>\n",
              "    </tr>\n",
              "    <tr>\n",
              "      <th>4</th>\n",
              "      <td>0</td>\n",
              "      <td>4</td>\n",
              "      <td>1.300887</td>\n",
              "      <td>-0.187757</td>\n",
              "      <td>-0.222523</td>\n",
              "      <td>4.286707</td>\n",
              "      <td>-57.906561</td>\n",
              "      <td>-27.961234</td>\n",
              "    </tr>\n",
              "    <tr>\n",
              "      <th>...</th>\n",
              "      <td>...</td>\n",
              "      <td>...</td>\n",
              "      <td>...</td>\n",
              "      <td>...</td>\n",
              "      <td>...</td>\n",
              "      <td>...</td>\n",
              "      <td>...</td>\n",
              "      <td>...</td>\n",
              "    </tr>\n",
              "    <tr>\n",
              "      <th>1874995</th>\n",
              "      <td>3124</td>\n",
              "      <td>595</td>\n",
              "      <td>-0.712530</td>\n",
              "      <td>-0.658357</td>\n",
              "      <td>0.293707</td>\n",
              "      <td>-29.367857</td>\n",
              "      <td>-104.013664</td>\n",
              "      <td>-76.290437</td>\n",
              "    </tr>\n",
              "    <tr>\n",
              "      <th>1874996</th>\n",
              "      <td>3124</td>\n",
              "      <td>596</td>\n",
              "      <td>-0.683037</td>\n",
              "      <td>-0.658466</td>\n",
              "      <td>0.329223</td>\n",
              "      <td>-30.149089</td>\n",
              "      <td>-101.796809</td>\n",
              "      <td>-76.625087</td>\n",
              "    </tr>\n",
              "    <tr>\n",
              "      <th>1874997</th>\n",
              "      <td>3124</td>\n",
              "      <td>597</td>\n",
              "      <td>-0.664730</td>\n",
              "      <td>-0.666625</td>\n",
              "      <td>0.364114</td>\n",
              "      <td>-27.873095</td>\n",
              "      <td>-98.776072</td>\n",
              "      <td>-79.365125</td>\n",
              "    </tr>\n",
              "    <tr>\n",
              "      <th>1874998</th>\n",
              "      <td>3124</td>\n",
              "      <td>598</td>\n",
              "      <td>-0.630534</td>\n",
              "      <td>-0.682565</td>\n",
              "      <td>0.373696</td>\n",
              "      <td>-23.636550</td>\n",
              "      <td>-99.139495</td>\n",
              "      <td>-80.259478</td>\n",
              "    </tr>\n",
              "    <tr>\n",
              "      <th>1874999</th>\n",
              "      <td>3124</td>\n",
              "      <td>599</td>\n",
              "      <td>-0.578351</td>\n",
              "      <td>-0.700235</td>\n",
              "      <td>0.384390</td>\n",
              "      <td>-17.917626</td>\n",
              "      <td>-100.181873</td>\n",
              "      <td>-80.676229</td>\n",
              "    </tr>\n",
              "  </tbody>\n",
              "</table>\n",
              "<p>1875000 rows × 8 columns</p>\n",
              "</div>"
            ],
            "text/plain": [
              "           id  time     acc_x  ...       gy_x        gy_y       gy_z\n",
              "0           0     0  1.206087  ...  -0.591608  -30.549010 -31.676112\n",
              "1           0     1  1.287696  ...   0.303100  -39.139103 -24.927216\n",
              "2           0     2  1.304609  ...  -3.617278  -44.122565 -25.019629\n",
              "3           0     3  1.293095  ...   2.712986  -53.597843 -27.454013\n",
              "4           0     4  1.300887  ...   4.286707  -57.906561 -27.961234\n",
              "...       ...   ...       ...  ...        ...         ...        ...\n",
              "1874995  3124   595 -0.712530  ... -29.367857 -104.013664 -76.290437\n",
              "1874996  3124   596 -0.683037  ... -30.149089 -101.796809 -76.625087\n",
              "1874997  3124   597 -0.664730  ... -27.873095  -98.776072 -79.365125\n",
              "1874998  3124   598 -0.630534  ... -23.636550  -99.139495 -80.259478\n",
              "1874999  3124   599 -0.578351  ... -17.917626 -100.181873 -80.676229\n",
              "\n",
              "[1875000 rows x 8 columns]"
            ]
          },
          "metadata": {},
          "execution_count": 52
        }
      ]
    },
    {
      "cell_type": "code",
      "metadata": {
        "colab": {
          "base_uri": "https://localhost:8080/"
        },
        "id": "k6DqRCJthduK",
        "outputId": "b4e7bc36-2cc3-4d92-b528-eb72edbfc022"
      },
      "source": [
        "#id 별로 각각 600개의 데이터가 있음을 확인   \n",
        "train_features['id'].value_counts()"
      ],
      "execution_count": 53,
      "outputs": [
        {
          "output_type": "execute_result",
          "data": {
            "text/plain": [
              "2047    600\n",
              "1347    600\n",
              "2378    600\n",
              "1354    600\n",
              "2379    600\n",
              "       ... \n",
              "1699    600\n",
              "675     600\n",
              "2722    600\n",
              "1698    600\n",
              "0       600\n",
              "Name: id, Length: 3125, dtype: int64"
            ]
          },
          "metadata": {},
          "execution_count": 53
        }
      ]
    },
    {
      "cell_type": "code",
      "metadata": {
        "colab": {
          "base_uri": "https://localhost:8080/",
          "height": 0
        },
        "id": "nRx564V3hhf6",
        "outputId": "3558747a-8443-431c-d9e0-09a4d36bc8e9"
      },
      "source": [
        "#train_labels.csv 에서 id 가 수행한 동작과 그에 따른 label값을 확인\n",
        "train_labels"
      ],
      "execution_count": 54,
      "outputs": [
        {
          "output_type": "execute_result",
          "data": {
            "text/html": [
              "<div>\n",
              "<style scoped>\n",
              "    .dataframe tbody tr th:only-of-type {\n",
              "        vertical-align: middle;\n",
              "    }\n",
              "\n",
              "    .dataframe tbody tr th {\n",
              "        vertical-align: top;\n",
              "    }\n",
              "\n",
              "    .dataframe thead th {\n",
              "        text-align: right;\n",
              "    }\n",
              "</style>\n",
              "<table border=\"1\" class=\"dataframe\">\n",
              "  <thead>\n",
              "    <tr style=\"text-align: right;\">\n",
              "      <th></th>\n",
              "      <th>id</th>\n",
              "      <th>label</th>\n",
              "      <th>label_desc</th>\n",
              "    </tr>\n",
              "  </thead>\n",
              "  <tbody>\n",
              "    <tr>\n",
              "      <th>0</th>\n",
              "      <td>0</td>\n",
              "      <td>37</td>\n",
              "      <td>Shoulder Press (dumbbell)</td>\n",
              "    </tr>\n",
              "    <tr>\n",
              "      <th>1</th>\n",
              "      <td>1</td>\n",
              "      <td>26</td>\n",
              "      <td>Non-Exercise</td>\n",
              "    </tr>\n",
              "    <tr>\n",
              "      <th>2</th>\n",
              "      <td>2</td>\n",
              "      <td>3</td>\n",
              "      <td>Biceps Curl (band)</td>\n",
              "    </tr>\n",
              "    <tr>\n",
              "      <th>3</th>\n",
              "      <td>3</td>\n",
              "      <td>26</td>\n",
              "      <td>Non-Exercise</td>\n",
              "    </tr>\n",
              "    <tr>\n",
              "      <th>4</th>\n",
              "      <td>4</td>\n",
              "      <td>26</td>\n",
              "      <td>Non-Exercise</td>\n",
              "    </tr>\n",
              "    <tr>\n",
              "      <th>...</th>\n",
              "      <td>...</td>\n",
              "      <td>...</td>\n",
              "      <td>...</td>\n",
              "    </tr>\n",
              "    <tr>\n",
              "      <th>3120</th>\n",
              "      <td>3120</td>\n",
              "      <td>26</td>\n",
              "      <td>Non-Exercise</td>\n",
              "    </tr>\n",
              "    <tr>\n",
              "      <th>3121</th>\n",
              "      <td>3121</td>\n",
              "      <td>26</td>\n",
              "      <td>Non-Exercise</td>\n",
              "    </tr>\n",
              "    <tr>\n",
              "      <th>3122</th>\n",
              "      <td>3122</td>\n",
              "      <td>15</td>\n",
              "      <td>Dynamic Stretch (at your own pace)</td>\n",
              "    </tr>\n",
              "    <tr>\n",
              "      <th>3123</th>\n",
              "      <td>3123</td>\n",
              "      <td>26</td>\n",
              "      <td>Non-Exercise</td>\n",
              "    </tr>\n",
              "    <tr>\n",
              "      <th>3124</th>\n",
              "      <td>3124</td>\n",
              "      <td>2</td>\n",
              "      <td>Bicep Curl</td>\n",
              "    </tr>\n",
              "  </tbody>\n",
              "</table>\n",
              "<p>3125 rows × 3 columns</p>\n",
              "</div>"
            ],
            "text/plain": [
              "        id  label                          label_desc\n",
              "0        0     37           Shoulder Press (dumbbell)\n",
              "1        1     26                        Non-Exercise\n",
              "2        2      3                  Biceps Curl (band)\n",
              "3        3     26                        Non-Exercise\n",
              "4        4     26                        Non-Exercise\n",
              "...    ...    ...                                 ...\n",
              "3120  3120     26                        Non-Exercise\n",
              "3121  3121     26                        Non-Exercise\n",
              "3122  3122     15  Dynamic Stretch (at your own pace)\n",
              "3123  3123     26                        Non-Exercise\n",
              "3124  3124      2                          Bicep Curl\n",
              "\n",
              "[3125 rows x 3 columns]"
            ]
          },
          "metadata": {},
          "execution_count": 54
        }
      ]
    },
    {
      "cell_type": "code",
      "metadata": {
        "colab": {
          "base_uri": "https://localhost:8080/",
          "height": 0
        },
        "id": "Fn7VIJbehpdS",
        "outputId": "e1d377ee-c11e-4cd2-ff65-8483d4f747e3"
      },
      "source": [
        "# 26번 데이터는 Non-Exercise data로 train 데이터의 절반 이상을 차지하고 있다\n",
        "plt.figure(figsize=(10,5))\n",
        "train_labels['label'].value_counts().plot(kind='bar')"
      ],
      "execution_count": 55,
      "outputs": [
        {
          "output_type": "execute_result",
          "data": {
            "text/plain": [
              "<matplotlib.axes._subplots.AxesSubplot at 0x7f1f88d9cfd0>"
            ]
          },
          "metadata": {},
          "execution_count": 55
        },
        {
          "output_type": "display_data",
          "data": {
            "image/png": "[encoded data removed]",
            "text/plain": [
              "<Figure size 720x360 with 1 Axes>"
            ]
          },
          "metadata": {
            "needs_background": "light"
          }
        }
      ]
    },
    {
      "cell_type": "markdown",
      "metadata": {
        "id": "4EyoxtXEI0T-"
      },
      "source": [
        "# **Data Preprocessing**\n",
        "data split, data scaling ... \n",
        "\n",
        "*  X_train_acc, X_train_gy \n",
        "*  X_test_acc, X_test_gy\n",
        "\n"
      ]
    },
    {
      "cell_type": "code",
      "metadata": {
        "colab": {
          "base_uri": "https://localhost:8080/"
        },
        "id": "GNuoIsjihuIm",
        "outputId": "2b1b72ed-e40f-49e0-85bd-674a2c09e108"
      },
      "source": [
        "# 데이터 분할\n",
        "act_list = train_features.iloc[:,2:].columns\n",
        "acc_list = ['acc_x','acc_y','acc_z']\n",
        "gy_list = ['gy_x','gy_y','gy_z']\n",
        "act_list"
      ],
      "execution_count": 56,
      "outputs": [
        {
          "output_type": "execute_result",
          "data": {
            "text/plain": [
              "Index(['acc_x', 'acc_y', 'acc_z', 'gy_x', 'gy_y', 'gy_z'], dtype='object')"
            ]
          },
          "metadata": {},
          "execution_count": 56
        }
      ]
    },
    {
      "cell_type": "code",
      "metadata": {
        "colab": {
          "base_uri": "https://localhost:8080/",
          "height": 0
        },
        "id": "F6IMBFrnhxgS",
        "outputId": "8954bc79-02de-47ba-8be8-ba32d9d7ea36"
      },
      "source": [
        "# Scaling\n",
        "# sklearn 의 data preprocessing - sklearn에서 제공하는 기본 스케일러 중 하나 \n",
        "scaler = StandardScaler()\n",
        "train_features[act_list] = scaler.fit_transform(train_features[act_list])\n",
        "test[act_list] = scaler.transform(test[act_list])\n",
        "train_features"
      ],
      "execution_count": 57,
      "outputs": [
        {
          "output_type": "execute_result",
          "data": {
            "text/html": [
              "<div>\n",
              "<style scoped>\n",
              "    .dataframe tbody tr th:only-of-type {\n",
              "        vertical-align: middle;\n",
              "    }\n",
              "\n",
              "    .dataframe tbody tr th {\n",
              "        vertical-align: top;\n",
              "    }\n",
              "\n",
              "    .dataframe thead th {\n",
              "        text-align: right;\n",
              "    }\n",
              "</style>\n",
              "<table border=\"1\" class=\"dataframe\">\n",
              "  <thead>\n",
              "    <tr style=\"text-align: right;\">\n",
              "      <th></th>\n",
              "      <th>id</th>\n",
              "      <th>time</th>\n",
              "      <th>acc_x</th>\n",
              "      <th>acc_y</th>\n",
              "      <th>acc_z</th>\n",
              "      <th>gy_x</th>\n",
              "      <th>gy_y</th>\n",
              "      <th>gy_z</th>\n",
              "    </tr>\n",
              "  </thead>\n",
              "  <tbody>\n",
              "    <tr>\n",
              "      <th>0</th>\n",
              "      <td>0</td>\n",
              "      <td>0</td>\n",
              "      <td>2.307314</td>\n",
              "      <td>-0.029939</td>\n",
              "      <td>-0.432104</td>\n",
              "      <td>0.011776</td>\n",
              "      <td>-0.410859</td>\n",
              "      <td>-0.461007</td>\n",
              "    </tr>\n",
              "    <tr>\n",
              "      <th>1</th>\n",
              "      <td>0</td>\n",
              "      <td>1</td>\n",
              "      <td>2.421086</td>\n",
              "      <td>-0.063321</td>\n",
              "      <td>-0.504058</td>\n",
              "      <td>0.026484</td>\n",
              "      <td>-0.528052</td>\n",
              "      <td>-0.365459</td>\n",
              "    </tr>\n",
              "    <tr>\n",
              "      <th>2</th>\n",
              "      <td>0</td>\n",
              "      <td>2</td>\n",
              "      <td>2.444664</td>\n",
              "      <td>-0.056749</td>\n",
              "      <td>-0.654199</td>\n",
              "      <td>-0.037962</td>\n",
              "      <td>-0.596041</td>\n",
              "      <td>-0.366767</td>\n",
              "    </tr>\n",
              "    <tr>\n",
              "      <th>3</th>\n",
              "      <td>0</td>\n",
              "      <td>3</td>\n",
              "      <td>2.428612</td>\n",
              "      <td>-0.116782</td>\n",
              "      <td>-0.573407</td>\n",
              "      <td>0.066099</td>\n",
              "      <td>-0.725311</td>\n",
              "      <td>-0.401232</td>\n",
              "    </tr>\n",
              "    <tr>\n",
              "      <th>4</th>\n",
              "      <td>0</td>\n",
              "      <td>4</td>\n",
              "      <td>2.439475</td>\n",
              "      <td>-0.044220</td>\n",
              "      <td>-0.588886</td>\n",
              "      <td>0.091969</td>\n",
              "      <td>-0.784094</td>\n",
              "      <td>-0.408413</td>\n",
              "    </tr>\n",
              "    <tr>\n",
              "      <th>...</th>\n",
              "      <td>...</td>\n",
              "      <td>...</td>\n",
              "      <td>...</td>\n",
              "      <td>...</td>\n",
              "      <td>...</td>\n",
              "      <td>...</td>\n",
              "      <td>...</td>\n",
              "      <td>...</td>\n",
              "    </tr>\n",
              "    <tr>\n",
              "      <th>1874995</th>\n",
              "      <td>3124</td>\n",
              "      <td>595</td>\n",
              "      <td>-0.367432</td>\n",
              "      <td>-0.845648</td>\n",
              "      <td>0.503707</td>\n",
              "      <td>-0.461266</td>\n",
              "      <td>-1.413128</td>\n",
              "      <td>-1.092639</td>\n",
              "    </tr>\n",
              "    <tr>\n",
              "      <th>1874996</th>\n",
              "      <td>3124</td>\n",
              "      <td>596</td>\n",
              "      <td>-0.326315</td>\n",
              "      <td>-0.845833</td>\n",
              "      <td>0.578875</td>\n",
              "      <td>-0.474109</td>\n",
              "      <td>-1.382884</td>\n",
              "      <td>-1.097377</td>\n",
              "    </tr>\n",
              "    <tr>\n",
              "      <th>1874997</th>\n",
              "      <td>3124</td>\n",
              "      <td>597</td>\n",
              "      <td>-0.300794</td>\n",
              "      <td>-0.859728</td>\n",
              "      <td>0.652722</td>\n",
              "      <td>-0.436694</td>\n",
              "      <td>-1.341672</td>\n",
              "      <td>-1.136169</td>\n",
              "    </tr>\n",
              "    <tr>\n",
              "      <th>1874998</th>\n",
              "      <td>3124</td>\n",
              "      <td>598</td>\n",
              "      <td>-0.253120</td>\n",
              "      <td>-0.886873</td>\n",
              "      <td>0.673002</td>\n",
              "      <td>-0.367051</td>\n",
              "      <td>-1.346630</td>\n",
              "      <td>-1.148831</td>\n",
              "    </tr>\n",
              "    <tr>\n",
              "      <th>1874999</th>\n",
              "      <td>3124</td>\n",
              "      <td>599</td>\n",
              "      <td>-0.180373</td>\n",
              "      <td>-0.916966</td>\n",
              "      <td>0.695634</td>\n",
              "      <td>-0.273040</td>\n",
              "      <td>-1.360851</td>\n",
              "      <td>-1.154731</td>\n",
              "    </tr>\n",
              "  </tbody>\n",
              "</table>\n",
              "<p>1875000 rows × 8 columns</p>\n",
              "</div>"
            ],
            "text/plain": [
              "           id  time     acc_x     acc_y     acc_z      gy_x      gy_y      gy_z\n",
              "0           0     0  2.307314 -0.029939 -0.432104  0.011776 -0.410859 -0.461007\n",
              "1           0     1  2.421086 -0.063321 -0.504058  0.026484 -0.528052 -0.365459\n",
              "2           0     2  2.444664 -0.056749 -0.654199 -0.037962 -0.596041 -0.366767\n",
              "3           0     3  2.428612 -0.116782 -0.573407  0.066099 -0.725311 -0.401232\n",
              "4           0     4  2.439475 -0.044220 -0.588886  0.091969 -0.784094 -0.408413\n",
              "...       ...   ...       ...       ...       ...       ...       ...       ...\n",
              "1874995  3124   595 -0.367432 -0.845648  0.503707 -0.461266 -1.413128 -1.092639\n",
              "1874996  3124   596 -0.326315 -0.845833  0.578875 -0.474109 -1.382884 -1.097377\n",
              "1874997  3124   597 -0.300794 -0.859728  0.652722 -0.436694 -1.341672 -1.136169\n",
              "1874998  3124   598 -0.253120 -0.886873  0.673002 -0.367051 -1.346630 -1.148831\n",
              "1874999  3124   599 -0.180373 -0.916966  0.695634 -0.273040 -1.360851 -1.154731\n",
              "\n",
              "[1875000 rows x 8 columns]"
            ]
          },
          "metadata": {},
          "execution_count": 57
        }
      ]
    },
    {
      "cell_type": "code",
      "metadata": {
        "id": "kQr_-VlsiCFQ"
      },
      "source": [
        "# acceleromete, gyroscope sensor feature split\n",
        "def sensor_split(data):\n",
        "  X_acc = []\n",
        "  X_gy = []\n",
        "\n",
        "  for i in tqdm(data['id'].unique()):\n",
        "      temp_acc = np.array(data[data['id'] == i].loc[:,acc_list])\n",
        "      temp_gy = np.array(data[data['id'] == i].loc[:,gy_list])\n",
        "      X_acc.append(temp_acc)\n",
        "      X_gy.append(temp_gy)\n",
        "      \n",
        "  X_acc = np.array(X_acc).reshape(-1,600,3)\n",
        "  X_gy = np.array(X_gy).reshape(-1,600,3)\n",
        "\n",
        "  return X_acc, X_gy"
      ],
      "execution_count": 58,
      "outputs": []
    },
    {
      "cell_type": "code",
      "metadata": {
        "colab": {
          "base_uri": "https://localhost:8080/"
        },
        "id": "MIpiEiRZccIZ",
        "outputId": "591d6d8d-f7b7-482e-a08c-867ee131f600"
      },
      "source": [
        "X_train_acc, X_train_gy = sensor_split(train_features)\n",
        "\n",
        "X_test_acc, X_test_gy = sensor_split(test)"
      ],
      "execution_count": 59,
      "outputs": [
        {
          "output_type": "stream",
          "name": "stderr",
          "text": [
            "100%|██████████| 3125/3125 [00:21<00:00, 143.47it/s]\n",
            "100%|██████████| 782/782 [00:03<00:00, 250.63it/s]\n"
          ]
        }
      ]
    },
    {
      "cell_type": "markdown",
      "metadata": {
        "id": "ecUVU60qI-_z"
      },
      "source": [
        "# **Data Augmentation**\n",
        "\n",
        "time warping, permutation..."
      ]
    },
    {
      "cell_type": "code",
      "metadata": {
        "id": "r66I6eSPiYm4"
      },
      "source": [
        "# 데이터 증강\n",
        "\n",
        "# Time Warping\n",
        "sigma = 0.2\n",
        "knot = 4\n",
        "\n",
        "def GenerateRandomCurves(X, sigma=0.2, knot=4):\n",
        "    xx = (np.ones((X.shape[1],1))*(np.arange(0,X.shape[0], (X.shape[0]-1)/(knot+1)))).transpose()\n",
        "    yy = np.random.normal(loc=1.0, scale=sigma, size=(knot+2, X.shape[1]))\n",
        "    x_range = np.arange(X.shape[0])\n",
        "    cs_x = CubicSpline(xx[:,0], yy[:,0])\n",
        "    cs_y = CubicSpline(xx[:,1], yy[:,1])\n",
        "    cs_z = CubicSpline(xx[:,2], yy[:,2])\n",
        "    return np.array([cs_x(x_range),cs_y(x_range),cs_z(x_range)]).transpose()\n",
        "\n",
        "def DistortTimesteps(X, sigma):\n",
        "    tt = GenerateRandomCurves(X, sigma) # Regard these samples aroun 1 as time intervals\n",
        "    tt_cum = np.cumsum(tt, axis=0)        # Add intervals to make a cumulative graph\n",
        "    # Make the last value to have X.shape[0]\n",
        "    t_scale = [(X.shape[0]-1)/tt_cum[-1,0],(X.shape[0]-1)/tt_cum[-1,1],(X.shape[0]-1)/tt_cum[-1,2]]\n",
        "    tt_cum[:,0] = tt_cum[:,0]*t_scale[0]\n",
        "    tt_cum[:,1] = tt_cum[:,1]*t_scale[1]\n",
        "    tt_cum[:,2] = tt_cum[:,2]*t_scale[2]\n",
        "    return tt_cum\n",
        "\n",
        "def TimeWarp(X, sigma):\n",
        "    tt_new = DistortTimesteps(X, sigma)\n",
        "    X_new = np.zeros(X.shape)\n",
        "    x_range = np.arange(X.shape[0])\n",
        "    X_new[:,0] = np.interp(x_range, tt_new[:,0], X[:,0])\n",
        "    X_new[:,1] = np.interp(x_range, tt_new[:,1], X[:,1])\n",
        "    X_new[:,2] = np.interp(x_range, tt_new[:,2], X[:,2])\n",
        "    return X_new\n",
        "\n",
        "# Permutation\n",
        "def Permutation(X, nPerm=4, minSegLength=10):\n",
        "    X_new = np.zeros(X.shape)\n",
        "    idx = np.random.permutation(nPerm)\n",
        "    bWhile = True\n",
        "    while bWhile == True:\n",
        "        segs = np.zeros(nPerm+1, dtype=int)\n",
        "        segs[1:-1] = np.sort(np.random.randint(minSegLength, X.shape[0]-minSegLength, nPerm-1))\n",
        "        segs[-1] = X.shape[0]\n",
        "        if np.min(segs[1:]-segs[0:-1]) > minSegLength:\n",
        "            bWhile = False\n",
        "    pp = 0\n",
        "    for ii in range(nPerm):\n",
        "        x_temp = X[segs[idx[ii]]:segs[idx[ii]+1],:]\n",
        "        X_new[pp:pp+len(x_temp),:] = x_temp\n",
        "        pp += len(x_temp)\n",
        "    return (X_new)\n",
        "\n",
        "# Rotation\n",
        "def Rotation(X):\n",
        "    axis = np.random.uniform(low=-1, high=1, size=X.shape[1])\n",
        "    angle = np.random.uniform(low=-np.pi, high=np.pi)\n",
        "    return np.matmul(X , axangle2mat(axis,angle))\n",
        "\n",
        "# Jittering\n",
        "def Jitter(X, sigma=0.05):\n",
        "    myNoise = np.random.normal(loc=0, scale=sigma, size=X.shape)\n",
        "    return X+myNoise\n",
        "\n",
        "# Magnitude Warping\n",
        "def MagWarp(X, sigma):\n",
        "    return X * GenerateRandomCurves(X, sigma)"
      ],
      "execution_count": 60,
      "outputs": []
    },
    {
      "cell_type": "code",
      "metadata": {
        "id": "dQ_xARkVieUI"
      },
      "source": [
        "def ts_aug(data, method,sigma):\n",
        "  new_data=[]\n",
        "  for i in range(data.shape[0]):\n",
        "    temp=list(method(data[i], sigma))\n",
        "    new_data.append(temp)\n",
        "  return np.array(new_data)"
      ],
      "execution_count": 61,
      "outputs": []
    },
    {
      "cell_type": "code",
      "metadata": {
        "id": "j2FwYBBkdw6o"
      },
      "source": [
        "X_train_acc_comb = Permutation(Jitter(X_train_acc))\n",
        "X_train_acc_perm = Permutation(X_train_acc)\n",
        "X_train_acc_timew = ts_aug(X_train_acc, TimeWarp, 0.2)\n",
        "X_train_acc_magw = ts_aug(X_train_acc, MagWarp, 0.2)\n",
        "\n",
        "X_train_gy_comb = Permutation(Jitter(X_train_gy))\n",
        "X_train_gy_perm = Permutation(X_train_gy)\n",
        "X_train_gy_timew = ts_aug(X_train_gy, TimeWarp, 0.2)\n",
        "X_train_gy_magw = ts_aug(X_train_gy, MagWarp, 0.2)"
      ],
      "execution_count": 62,
      "outputs": []
    },
    {
      "cell_type": "code",
      "metadata": {
        "id": "S5eP0aovdz8s"
      },
      "source": [
        "X_train_acc = np.append(X_train_acc, X_train_acc_comb, axis=0)\n",
        "X_train_acc = np.append(X_train_acc, X_train_acc_perm, axis=0)\n",
        "X_train_acc = np.append(X_train_acc, X_train_acc_timew, axis=0)\n",
        "X_train_acc = np.append(X_train_acc, X_train_acc_magw, axis=0)\n",
        "\n",
        "X_train_gy = np.append(X_train_gy, X_train_gy_comb, axis=0)\n",
        "X_train_gy = np.append(X_train_gy, X_train_gy_perm, axis=0)\n",
        "X_train_gy = np.append(X_train_gy, X_train_gy_timew, axis=0)\n",
        "X_train_gy = np.append(X_train_gy, X_train_gy_magw, axis=0)"
      ],
      "execution_count": 63,
      "outputs": []
    },
    {
      "cell_type": "code",
      "metadata": {
        "colab": {
          "base_uri": "https://localhost:8080/",
          "height": 0
        },
        "id": "UDNbnGjud2zw",
        "outputId": "379b813d-3520-4f6b-9659-f747cd68efd1"
      },
      "source": [
        "acc = [e for sl in X_train_acc for e in sl]\n",
        "\n",
        "df_report = np.stack(acc, axis = 0)\n",
        "df_acc = pd.DataFrame(df_report, columns= ['acc_x', 'acc_y', 'acc_z'])\n",
        "\n",
        "df_acc"
      ],
      "execution_count": 64,
      "outputs": [
        {
          "output_type": "execute_result",
          "data": {
            "text/html": [
              "<div>\n",
              "<style scoped>\n",
              "    .dataframe tbody tr th:only-of-type {\n",
              "        vertical-align: middle;\n",
              "    }\n",
              "\n",
              "    .dataframe tbody tr th {\n",
              "        vertical-align: top;\n",
              "    }\n",
              "\n",
              "    .dataframe thead th {\n",
              "        text-align: right;\n",
              "    }\n",
              "</style>\n",
              "<table border=\"1\" class=\"dataframe\">\n",
              "  <thead>\n",
              "    <tr style=\"text-align: right;\">\n",
              "      <th></th>\n",
              "      <th>acc_x</th>\n",
              "      <th>acc_y</th>\n",
              "      <th>acc_z</th>\n",
              "    </tr>\n",
              "  </thead>\n",
              "  <tbody>\n",
              "    <tr>\n",
              "      <th>0</th>\n",
              "      <td>2.307314</td>\n",
              "      <td>-0.029939</td>\n",
              "      <td>-0.432104</td>\n",
              "    </tr>\n",
              "    <tr>\n",
              "      <th>1</th>\n",
              "      <td>2.421086</td>\n",
              "      <td>-0.063321</td>\n",
              "      <td>-0.504058</td>\n",
              "    </tr>\n",
              "    <tr>\n",
              "      <th>2</th>\n",
              "      <td>2.444664</td>\n",
              "      <td>-0.056749</td>\n",
              "      <td>-0.654199</td>\n",
              "    </tr>\n",
              "    <tr>\n",
              "      <th>3</th>\n",
              "      <td>2.428612</td>\n",
              "      <td>-0.116782</td>\n",
              "      <td>-0.573407</td>\n",
              "    </tr>\n",
              "    <tr>\n",
              "      <th>4</th>\n",
              "      <td>2.439475</td>\n",
              "      <td>-0.044220</td>\n",
              "      <td>-0.588886</td>\n",
              "    </tr>\n",
              "    <tr>\n",
              "      <th>...</th>\n",
              "      <td>...</td>\n",
              "      <td>...</td>\n",
              "      <td>...</td>\n",
              "    </tr>\n",
              "    <tr>\n",
              "      <th>9374995</th>\n",
              "      <td>-0.228618</td>\n",
              "      <td>-1.019051</td>\n",
              "      <td>0.535938</td>\n",
              "    </tr>\n",
              "    <tr>\n",
              "      <th>9374996</th>\n",
              "      <td>-0.199288</td>\n",
              "      <td>-1.019703</td>\n",
              "      <td>0.611160</td>\n",
              "    </tr>\n",
              "    <tr>\n",
              "      <th>9374997</th>\n",
              "      <td>-0.180202</td>\n",
              "      <td>-1.036879</td>\n",
              "      <td>0.683639</td>\n",
              "    </tr>\n",
              "    <tr>\n",
              "      <th>9374998</th>\n",
              "      <td>-0.148658</td>\n",
              "      <td>-1.070044</td>\n",
              "      <td>0.699096</td>\n",
              "    </tr>\n",
              "    <tr>\n",
              "      <th>9374999</th>\n",
              "      <td>-0.103780</td>\n",
              "      <td>-1.106782</td>\n",
              "      <td>0.716493</td>\n",
              "    </tr>\n",
              "  </tbody>\n",
              "</table>\n",
              "<p>9375000 rows × 3 columns</p>\n",
              "</div>"
            ],
            "text/plain": [
              "            acc_x     acc_y     acc_z\n",
              "0        2.307314 -0.029939 -0.432104\n",
              "1        2.421086 -0.063321 -0.504058\n",
              "2        2.444664 -0.056749 -0.654199\n",
              "3        2.428612 -0.116782 -0.573407\n",
              "4        2.439475 -0.044220 -0.588886\n",
              "...           ...       ...       ...\n",
              "9374995 -0.228618 -1.019051  0.535938\n",
              "9374996 -0.199288 -1.019703  0.611160\n",
              "9374997 -0.180202 -1.036879  0.683639\n",
              "9374998 -0.148658 -1.070044  0.699096\n",
              "9374999 -0.103780 -1.106782  0.716493\n",
              "\n",
              "[9375000 rows x 3 columns]"
            ]
          },
          "metadata": {},
          "execution_count": 64
        }
      ]
    },
    {
      "cell_type": "code",
      "metadata": {
        "colab": {
          "base_uri": "https://localhost:8080/",
          "height": 0
        },
        "id": "Cs2j0ouDd5Pv",
        "outputId": "2299f823-a4c3-445b-c35f-e300037b1fa0"
      },
      "source": [
        "# gy\n",
        "\n",
        "gy = [e for sl in X_train_gy for e in sl]\n",
        "\n",
        "df_report = np.stack(gy, axis = 0)\n",
        "df_gy = pd.DataFrame(df_report, columns= ['gy_x', 'gy_y', 'gy_z'])\n",
        "\n",
        "df_gy"
      ],
      "execution_count": 65,
      "outputs": [
        {
          "output_type": "execute_result",
          "data": {
            "text/html": [
              "<div>\n",
              "<style scoped>\n",
              "    .dataframe tbody tr th:only-of-type {\n",
              "        vertical-align: middle;\n",
              "    }\n",
              "\n",
              "    .dataframe tbody tr th {\n",
              "        vertical-align: top;\n",
              "    }\n",
              "\n",
              "    .dataframe thead th {\n",
              "        text-align: right;\n",
              "    }\n",
              "</style>\n",
              "<table border=\"1\" class=\"dataframe\">\n",
              "  <thead>\n",
              "    <tr style=\"text-align: right;\">\n",
              "      <th></th>\n",
              "      <th>gy_x</th>\n",
              "      <th>gy_y</th>\n",
              "      <th>gy_z</th>\n",
              "    </tr>\n",
              "  </thead>\n",
              "  <tbody>\n",
              "    <tr>\n",
              "      <th>0</th>\n",
              "      <td>0.011776</td>\n",
              "      <td>-0.410859</td>\n",
              "      <td>-0.461007</td>\n",
              "    </tr>\n",
              "    <tr>\n",
              "      <th>1</th>\n",
              "      <td>0.026484</td>\n",
              "      <td>-0.528052</td>\n",
              "      <td>-0.365459</td>\n",
              "    </tr>\n",
              "    <tr>\n",
              "      <th>2</th>\n",
              "      <td>-0.037962</td>\n",
              "      <td>-0.596041</td>\n",
              "      <td>-0.366767</td>\n",
              "    </tr>\n",
              "    <tr>\n",
              "      <th>3</th>\n",
              "      <td>0.066099</td>\n",
              "      <td>-0.725311</td>\n",
              "      <td>-0.401232</td>\n",
              "    </tr>\n",
              "    <tr>\n",
              "      <th>4</th>\n",
              "      <td>0.091969</td>\n",
              "      <td>-0.784094</td>\n",
              "      <td>-0.408413</td>\n",
              "    </tr>\n",
              "    <tr>\n",
              "      <th>...</th>\n",
              "      <td>...</td>\n",
              "      <td>...</td>\n",
              "      <td>...</td>\n",
              "    </tr>\n",
              "    <tr>\n",
              "      <th>9374995</th>\n",
              "      <td>-0.426524</td>\n",
              "      <td>-1.610520</td>\n",
              "      <td>-1.145014</td>\n",
              "    </tr>\n",
              "    <tr>\n",
              "      <th>9374996</th>\n",
              "      <td>-0.441840</td>\n",
              "      <td>-1.575549</td>\n",
              "      <td>-1.147865</td>\n",
              "    </tr>\n",
              "    <tr>\n",
              "      <th>9374997</th>\n",
              "      <td>-0.410194</td>\n",
              "      <td>-1.528110</td>\n",
              "      <td>-1.186228</td>\n",
              "    </tr>\n",
              "    <tr>\n",
              "      <th>9374998</th>\n",
              "      <td>-0.347532</td>\n",
              "      <td>-1.533270</td>\n",
              "      <td>-1.197185</td>\n",
              "    </tr>\n",
              "    <tr>\n",
              "      <th>9374999</th>\n",
              "      <td>-0.260603</td>\n",
              "      <td>-1.548972</td>\n",
              "      <td>-1.201033</td>\n",
              "    </tr>\n",
              "  </tbody>\n",
              "</table>\n",
              "<p>9375000 rows × 3 columns</p>\n",
              "</div>"
            ],
            "text/plain": [
              "             gy_x      gy_y      gy_z\n",
              "0        0.011776 -0.410859 -0.461007\n",
              "1        0.026484 -0.528052 -0.365459\n",
              "2       -0.037962 -0.596041 -0.366767\n",
              "3        0.066099 -0.725311 -0.401232\n",
              "4        0.091969 -0.784094 -0.408413\n",
              "...           ...       ...       ...\n",
              "9374995 -0.426524 -1.610520 -1.145014\n",
              "9374996 -0.441840 -1.575549 -1.147865\n",
              "9374997 -0.410194 -1.528110 -1.186228\n",
              "9374998 -0.347532 -1.533270 -1.197185\n",
              "9374999 -0.260603 -1.548972 -1.201033\n",
              "\n",
              "[9375000 rows x 3 columns]"
            ]
          },
          "metadata": {},
          "execution_count": 65
        }
      ]
    },
    {
      "cell_type": "code",
      "metadata": {
        "colab": {
          "base_uri": "https://localhost:8080/",
          "height": 0
        },
        "id": "OlZISb7zd6kM",
        "outputId": "fbbde7e5-1d96-4440-992d-22c2f4bc8b2f"
      },
      "source": [
        "# acc, gy 데이터프레임 병합\n",
        "\n",
        "df_aug_result = pd.concat([df_acc, df_gy], axis = 1)\n",
        "df_aug_result.insert(0, 'id', 0)\n",
        "df_aug_result.insert(1, 'time', 1)\n",
        "df_aug_result"
      ],
      "execution_count": 66,
      "outputs": [
        {
          "output_type": "execute_result",
          "data": {
            "text/html": [
              "<div>\n",
              "<style scoped>\n",
              "    .dataframe tbody tr th:only-of-type {\n",
              "        vertical-align: middle;\n",
              "    }\n",
              "\n",
              "    .dataframe tbody tr th {\n",
              "        vertical-align: top;\n",
              "    }\n",
              "\n",
              "    .dataframe thead th {\n",
              "        text-align: right;\n",
              "    }\n",
              "</style>\n",
              "<table border=\"1\" class=\"dataframe\">\n",
              "  <thead>\n",
              "    <tr style=\"text-align: right;\">\n",
              "      <th></th>\n",
              "      <th>id</th>\n",
              "      <th>time</th>\n",
              "      <th>acc_x</th>\n",
              "      <th>acc_y</th>\n",
              "      <th>acc_z</th>\n",
              "      <th>gy_x</th>\n",
              "      <th>gy_y</th>\n",
              "      <th>gy_z</th>\n",
              "    </tr>\n",
              "  </thead>\n",
              "  <tbody>\n",
              "    <tr>\n",
              "      <th>0</th>\n",
              "      <td>0</td>\n",
              "      <td>1</td>\n",
              "      <td>2.307314</td>\n",
              "      <td>-0.029939</td>\n",
              "      <td>-0.432104</td>\n",
              "      <td>0.011776</td>\n",
              "      <td>-0.410859</td>\n",
              "      <td>-0.461007</td>\n",
              "    </tr>\n",
              "    <tr>\n",
              "      <th>1</th>\n",
              "      <td>0</td>\n",
              "      <td>1</td>\n",
              "      <td>2.421086</td>\n",
              "      <td>-0.063321</td>\n",
              "      <td>-0.504058</td>\n",
              "      <td>0.026484</td>\n",
              "      <td>-0.528052</td>\n",
              "      <td>-0.365459</td>\n",
              "    </tr>\n",
              "    <tr>\n",
              "      <th>2</th>\n",
              "      <td>0</td>\n",
              "      <td>1</td>\n",
              "      <td>2.444664</td>\n",
              "      <td>-0.056749</td>\n",
              "      <td>-0.654199</td>\n",
              "      <td>-0.037962</td>\n",
              "      <td>-0.596041</td>\n",
              "      <td>-0.366767</td>\n",
              "    </tr>\n",
              "    <tr>\n",
              "      <th>3</th>\n",
              "      <td>0</td>\n",
              "      <td>1</td>\n",
              "      <td>2.428612</td>\n",
              "      <td>-0.116782</td>\n",
              "      <td>-0.573407</td>\n",
              "      <td>0.066099</td>\n",
              "      <td>-0.725311</td>\n",
              "      <td>-0.401232</td>\n",
              "    </tr>\n",
              "    <tr>\n",
              "      <th>4</th>\n",
              "      <td>0</td>\n",
              "      <td>1</td>\n",
              "      <td>2.439475</td>\n",
              "      <td>-0.044220</td>\n",
              "      <td>-0.588886</td>\n",
              "      <td>0.091969</td>\n",
              "      <td>-0.784094</td>\n",
              "      <td>-0.408413</td>\n",
              "    </tr>\n",
              "    <tr>\n",
              "      <th>...</th>\n",
              "      <td>...</td>\n",
              "      <td>...</td>\n",
              "      <td>...</td>\n",
              "      <td>...</td>\n",
              "      <td>...</td>\n",
              "      <td>...</td>\n",
              "      <td>...</td>\n",
              "      <td>...</td>\n",
              "    </tr>\n",
              "    <tr>\n",
              "      <th>9374995</th>\n",
              "      <td>0</td>\n",
              "      <td>1</td>\n",
              "      <td>-0.228618</td>\n",
              "      <td>-1.019051</td>\n",
              "      <td>0.535938</td>\n",
              "      <td>-0.426524</td>\n",
              "      <td>-1.610520</td>\n",
              "      <td>-1.145014</td>\n",
              "    </tr>\n",
              "    <tr>\n",
              "      <th>9374996</th>\n",
              "      <td>0</td>\n",
              "      <td>1</td>\n",
              "      <td>-0.199288</td>\n",
              "      <td>-1.019703</td>\n",
              "      <td>0.611160</td>\n",
              "      <td>-0.441840</td>\n",
              "      <td>-1.575549</td>\n",
              "      <td>-1.147865</td>\n",
              "    </tr>\n",
              "    <tr>\n",
              "      <th>9374997</th>\n",
              "      <td>0</td>\n",
              "      <td>1</td>\n",
              "      <td>-0.180202</td>\n",
              "      <td>-1.036879</td>\n",
              "      <td>0.683639</td>\n",
              "      <td>-0.410194</td>\n",
              "      <td>-1.528110</td>\n",
              "      <td>-1.186228</td>\n",
              "    </tr>\n",
              "    <tr>\n",
              "      <th>9374998</th>\n",
              "      <td>0</td>\n",
              "      <td>1</td>\n",
              "      <td>-0.148658</td>\n",
              "      <td>-1.070044</td>\n",
              "      <td>0.699096</td>\n",
              "      <td>-0.347532</td>\n",
              "      <td>-1.533270</td>\n",
              "      <td>-1.197185</td>\n",
              "    </tr>\n",
              "    <tr>\n",
              "      <th>9374999</th>\n",
              "      <td>0</td>\n",
              "      <td>1</td>\n",
              "      <td>-0.103780</td>\n",
              "      <td>-1.106782</td>\n",
              "      <td>0.716493</td>\n",
              "      <td>-0.260603</td>\n",
              "      <td>-1.548972</td>\n",
              "      <td>-1.201033</td>\n",
              "    </tr>\n",
              "  </tbody>\n",
              "</table>\n",
              "<p>9375000 rows × 8 columns</p>\n",
              "</div>"
            ],
            "text/plain": [
              "         id  time     acc_x     acc_y     acc_z      gy_x      gy_y      gy_z\n",
              "0         0     1  2.307314 -0.029939 -0.432104  0.011776 -0.410859 -0.461007\n",
              "1         0     1  2.421086 -0.063321 -0.504058  0.026484 -0.528052 -0.365459\n",
              "2         0     1  2.444664 -0.056749 -0.654199 -0.037962 -0.596041 -0.366767\n",
              "3         0     1  2.428612 -0.116782 -0.573407  0.066099 -0.725311 -0.401232\n",
              "4         0     1  2.439475 -0.044220 -0.588886  0.091969 -0.784094 -0.408413\n",
              "...      ..   ...       ...       ...       ...       ...       ...       ...\n",
              "9374995   0     1 -0.228618 -1.019051  0.535938 -0.426524 -1.610520 -1.145014\n",
              "9374996   0     1 -0.199288 -1.019703  0.611160 -0.441840 -1.575549 -1.147865\n",
              "9374997   0     1 -0.180202 -1.036879  0.683639 -0.410194 -1.528110 -1.186228\n",
              "9374998   0     1 -0.148658 -1.070044  0.699096 -0.347532 -1.533270 -1.197185\n",
              "9374999   0     1 -0.103780 -1.106782  0.716493 -0.260603 -1.548972 -1.201033\n",
              "\n",
              "[9375000 rows x 8 columns]"
            ]
          },
          "metadata": {},
          "execution_count": 66
        }
      ]
    },
    {
      "cell_type": "code",
      "metadata": {
        "colab": {
          "base_uri": "https://localhost:8080/"
        },
        "id": "2fFAIQLQd9db",
        "outputId": "d843ada1-406d-45cf-d063-2a111e0b3cd0"
      },
      "source": [
        "df_aug_result.loc[600*0:600*0+600, 'time']"
      ],
      "execution_count": 67,
      "outputs": [
        {
          "output_type": "execute_result",
          "data": {
            "text/plain": [
              "0      1\n",
              "1      1\n",
              "2      1\n",
              "3      1\n",
              "4      1\n",
              "      ..\n",
              "596    1\n",
              "597    1\n",
              "598    1\n",
              "599    1\n",
              "600    1\n",
              "Name: time, Length: 601, dtype: int64"
            ]
          },
          "metadata": {},
          "execution_count": 67
        }
      ]
    },
    {
      "cell_type": "code",
      "metadata": {
        "colab": {
          "base_uri": "https://localhost:8080/",
          "height": 0
        },
        "id": "qBpfm2csd_7L",
        "outputId": "571ae469-3fe1-4f17-8f3c-42459c8c2d79"
      },
      "source": [
        "train = df_aug_result\n",
        "train"
      ],
      "execution_count": 68,
      "outputs": [
        {
          "output_type": "execute_result",
          "data": {
            "text/html": [
              "<div>\n",
              "<style scoped>\n",
              "    .dataframe tbody tr th:only-of-type {\n",
              "        vertical-align: middle;\n",
              "    }\n",
              "\n",
              "    .dataframe tbody tr th {\n",
              "        vertical-align: top;\n",
              "    }\n",
              "\n",
              "    .dataframe thead th {\n",
              "        text-align: right;\n",
              "    }\n",
              "</style>\n",
              "<table border=\"1\" class=\"dataframe\">\n",
              "  <thead>\n",
              "    <tr style=\"text-align: right;\">\n",
              "      <th></th>\n",
              "      <th>id</th>\n",
              "      <th>time</th>\n",
              "      <th>acc_x</th>\n",
              "      <th>acc_y</th>\n",
              "      <th>acc_z</th>\n",
              "      <th>gy_x</th>\n",
              "      <th>gy_y</th>\n",
              "      <th>gy_z</th>\n",
              "    </tr>\n",
              "  </thead>\n",
              "  <tbody>\n",
              "    <tr>\n",
              "      <th>0</th>\n",
              "      <td>0</td>\n",
              "      <td>1</td>\n",
              "      <td>2.307314</td>\n",
              "      <td>-0.029939</td>\n",
              "      <td>-0.432104</td>\n",
              "      <td>0.011776</td>\n",
              "      <td>-0.410859</td>\n",
              "      <td>-0.461007</td>\n",
              "    </tr>\n",
              "    <tr>\n",
              "      <th>1</th>\n",
              "      <td>0</td>\n",
              "      <td>1</td>\n",
              "      <td>2.421086</td>\n",
              "      <td>-0.063321</td>\n",
              "      <td>-0.504058</td>\n",
              "      <td>0.026484</td>\n",
              "      <td>-0.528052</td>\n",
              "      <td>-0.365459</td>\n",
              "    </tr>\n",
              "    <tr>\n",
              "      <th>2</th>\n",
              "      <td>0</td>\n",
              "      <td>1</td>\n",
              "      <td>2.444664</td>\n",
              "      <td>-0.056749</td>\n",
              "      <td>-0.654199</td>\n",
              "      <td>-0.037962</td>\n",
              "      <td>-0.596041</td>\n",
              "      <td>-0.366767</td>\n",
              "    </tr>\n",
              "    <tr>\n",
              "      <th>3</th>\n",
              "      <td>0</td>\n",
              "      <td>1</td>\n",
              "      <td>2.428612</td>\n",
              "      <td>-0.116782</td>\n",
              "      <td>-0.573407</td>\n",
              "      <td>0.066099</td>\n",
              "      <td>-0.725311</td>\n",
              "      <td>-0.401232</td>\n",
              "    </tr>\n",
              "    <tr>\n",
              "      <th>4</th>\n",
              "      <td>0</td>\n",
              "      <td>1</td>\n",
              "      <td>2.439475</td>\n",
              "      <td>-0.044220</td>\n",
              "      <td>-0.588886</td>\n",
              "      <td>0.091969</td>\n",
              "      <td>-0.784094</td>\n",
              "      <td>-0.408413</td>\n",
              "    </tr>\n",
              "    <tr>\n",
              "      <th>...</th>\n",
              "      <td>...</td>\n",
              "      <td>...</td>\n",
              "      <td>...</td>\n",
              "      <td>...</td>\n",
              "      <td>...</td>\n",
              "      <td>...</td>\n",
              "      <td>...</td>\n",
              "      <td>...</td>\n",
              "    </tr>\n",
              "    <tr>\n",
              "      <th>9374995</th>\n",
              "      <td>0</td>\n",
              "      <td>1</td>\n",
              "      <td>-0.228618</td>\n",
              "      <td>-1.019051</td>\n",
              "      <td>0.535938</td>\n",
              "      <td>-0.426524</td>\n",
              "      <td>-1.610520</td>\n",
              "      <td>-1.145014</td>\n",
              "    </tr>\n",
              "    <tr>\n",
              "      <th>9374996</th>\n",
              "      <td>0</td>\n",
              "      <td>1</td>\n",
              "      <td>-0.199288</td>\n",
              "      <td>-1.019703</td>\n",
              "      <td>0.611160</td>\n",
              "      <td>-0.441840</td>\n",
              "      <td>-1.575549</td>\n",
              "      <td>-1.147865</td>\n",
              "    </tr>\n",
              "    <tr>\n",
              "      <th>9374997</th>\n",
              "      <td>0</td>\n",
              "      <td>1</td>\n",
              "      <td>-0.180202</td>\n",
              "      <td>-1.036879</td>\n",
              "      <td>0.683639</td>\n",
              "      <td>-0.410194</td>\n",
              "      <td>-1.528110</td>\n",
              "      <td>-1.186228</td>\n",
              "    </tr>\n",
              "    <tr>\n",
              "      <th>9374998</th>\n",
              "      <td>0</td>\n",
              "      <td>1</td>\n",
              "      <td>-0.148658</td>\n",
              "      <td>-1.070044</td>\n",
              "      <td>0.699096</td>\n",
              "      <td>-0.347532</td>\n",
              "      <td>-1.533270</td>\n",
              "      <td>-1.197185</td>\n",
              "    </tr>\n",
              "    <tr>\n",
              "      <th>9374999</th>\n",
              "      <td>0</td>\n",
              "      <td>1</td>\n",
              "      <td>-0.103780</td>\n",
              "      <td>-1.106782</td>\n",
              "      <td>0.716493</td>\n",
              "      <td>-0.260603</td>\n",
              "      <td>-1.548972</td>\n",
              "      <td>-1.201033</td>\n",
              "    </tr>\n",
              "  </tbody>\n",
              "</table>\n",
              "<p>9375000 rows × 8 columns</p>\n",
              "</div>"
            ],
            "text/plain": [
              "         id  time     acc_x     acc_y     acc_z      gy_x      gy_y      gy_z\n",
              "0         0     1  2.307314 -0.029939 -0.432104  0.011776 -0.410859 -0.461007\n",
              "1         0     1  2.421086 -0.063321 -0.504058  0.026484 -0.528052 -0.365459\n",
              "2         0     1  2.444664 -0.056749 -0.654199 -0.037962 -0.596041 -0.366767\n",
              "3         0     1  2.428612 -0.116782 -0.573407  0.066099 -0.725311 -0.401232\n",
              "4         0     1  2.439475 -0.044220 -0.588886  0.091969 -0.784094 -0.408413\n",
              "...      ..   ...       ...       ...       ...       ...       ...       ...\n",
              "9374995   0     1 -0.228618 -1.019051  0.535938 -0.426524 -1.610520 -1.145014\n",
              "9374996   0     1 -0.199288 -1.019703  0.611160 -0.441840 -1.575549 -1.147865\n",
              "9374997   0     1 -0.180202 -1.036879  0.683639 -0.410194 -1.528110 -1.186228\n",
              "9374998   0     1 -0.148658 -1.070044  0.699096 -0.347532 -1.533270 -1.197185\n",
              "9374999   0     1 -0.103780 -1.106782  0.716493 -0.260603 -1.548972 -1.201033\n",
              "\n",
              "[9375000 rows x 8 columns]"
            ]
          },
          "metadata": {},
          "execution_count": 68
        }
      ]
    },
    {
      "cell_type": "code",
      "metadata": {
        "colab": {
          "base_uri": "https://localhost:8080/",
          "height": 0
        },
        "id": "ZXCw1pB5eGRE",
        "outputId": "11cf4d7e-637a-4c15-e1b3-941d0812113e"
      },
      "source": [
        "n = 4\n",
        "train_labels_copy = train_labels.copy()\n",
        "for i in range(0, n):\n",
        "    train_labels = train_labels.append(train_labels_copy, ignore_index=True)\n",
        "train_labels = train_labels.reset_index()\n",
        "train_labels"
      ],
      "execution_count": 69,
      "outputs": [
        {
          "output_type": "execute_result",
          "data": {
            "text/html": [
              "<div>\n",
              "<style scoped>\n",
              "    .dataframe tbody tr th:only-of-type {\n",
              "        vertical-align: middle;\n",
              "    }\n",
              "\n",
              "    .dataframe tbody tr th {\n",
              "        vertical-align: top;\n",
              "    }\n",
              "\n",
              "    .dataframe thead th {\n",
              "        text-align: right;\n",
              "    }\n",
              "</style>\n",
              "<table border=\"1\" class=\"dataframe\">\n",
              "  <thead>\n",
              "    <tr style=\"text-align: right;\">\n",
              "      <th></th>\n",
              "      <th>index</th>\n",
              "      <th>id</th>\n",
              "      <th>label</th>\n",
              "      <th>label_desc</th>\n",
              "    </tr>\n",
              "  </thead>\n",
              "  <tbody>\n",
              "    <tr>\n",
              "      <th>0</th>\n",
              "      <td>0</td>\n",
              "      <td>0</td>\n",
              "      <td>37</td>\n",
              "      <td>Shoulder Press (dumbbell)</td>\n",
              "    </tr>\n",
              "    <tr>\n",
              "      <th>1</th>\n",
              "      <td>1</td>\n",
              "      <td>1</td>\n",
              "      <td>26</td>\n",
              "      <td>Non-Exercise</td>\n",
              "    </tr>\n",
              "    <tr>\n",
              "      <th>2</th>\n",
              "      <td>2</td>\n",
              "      <td>2</td>\n",
              "      <td>3</td>\n",
              "      <td>Biceps Curl (band)</td>\n",
              "    </tr>\n",
              "    <tr>\n",
              "      <th>3</th>\n",
              "      <td>3</td>\n",
              "      <td>3</td>\n",
              "      <td>26</td>\n",
              "      <td>Non-Exercise</td>\n",
              "    </tr>\n",
              "    <tr>\n",
              "      <th>4</th>\n",
              "      <td>4</td>\n",
              "      <td>4</td>\n",
              "      <td>26</td>\n",
              "      <td>Non-Exercise</td>\n",
              "    </tr>\n",
              "    <tr>\n",
              "      <th>...</th>\n",
              "      <td>...</td>\n",
              "      <td>...</td>\n",
              "      <td>...</td>\n",
              "      <td>...</td>\n",
              "    </tr>\n",
              "    <tr>\n",
              "      <th>15620</th>\n",
              "      <td>15620</td>\n",
              "      <td>3120</td>\n",
              "      <td>26</td>\n",
              "      <td>Non-Exercise</td>\n",
              "    </tr>\n",
              "    <tr>\n",
              "      <th>15621</th>\n",
              "      <td>15621</td>\n",
              "      <td>3121</td>\n",
              "      <td>26</td>\n",
              "      <td>Non-Exercise</td>\n",
              "    </tr>\n",
              "    <tr>\n",
              "      <th>15622</th>\n",
              "      <td>15622</td>\n",
              "      <td>3122</td>\n",
              "      <td>15</td>\n",
              "      <td>Dynamic Stretch (at your own pace)</td>\n",
              "    </tr>\n",
              "    <tr>\n",
              "      <th>15623</th>\n",
              "      <td>15623</td>\n",
              "      <td>3123</td>\n",
              "      <td>26</td>\n",
              "      <td>Non-Exercise</td>\n",
              "    </tr>\n",
              "    <tr>\n",
              "      <th>15624</th>\n",
              "      <td>15624</td>\n",
              "      <td>3124</td>\n",
              "      <td>2</td>\n",
              "      <td>Bicep Curl</td>\n",
              "    </tr>\n",
              "  </tbody>\n",
              "</table>\n",
              "<p>15625 rows × 4 columns</p>\n",
              "</div>"
            ],
            "text/plain": [
              "       index    id  label                          label_desc\n",
              "0          0     0     37           Shoulder Press (dumbbell)\n",
              "1          1     1     26                        Non-Exercise\n",
              "2          2     2      3                  Biceps Curl (band)\n",
              "3          3     3     26                        Non-Exercise\n",
              "4          4     4     26                        Non-Exercise\n",
              "...      ...   ...    ...                                 ...\n",
              "15620  15620  3120     26                        Non-Exercise\n",
              "15621  15621  3121     26                        Non-Exercise\n",
              "15622  15622  3122     15  Dynamic Stretch (at your own pace)\n",
              "15623  15623  3123     26                        Non-Exercise\n",
              "15624  15624  3124      2                          Bicep Curl\n",
              "\n",
              "[15625 rows x 4 columns]"
            ]
          },
          "metadata": {},
          "execution_count": 69
        }
      ]
    },
    {
      "cell_type": "markdown",
      "metadata": {
        "id": "_PZVkHhFL7m7"
      },
      "source": [
        "# **속도, 각속도 추가**"
      ]
    },
    {
      "cell_type": "code",
      "metadata": {
        "id": "vVTMW98Ai2at",
        "colab": {
          "base_uri": "https://localhost:8080/"
        },
        "outputId": "0f1aa669-9e61-43d6-e495-d1587846e253"
      },
      "source": [
        "# 속도, 각속도 추가\n",
        "feature_names = ['acc_x','acc_y','acc_z','gy_x','gy_y','gy_z']\n",
        "\n",
        "grad_cols=[]\n",
        "for col in feature_names:\n",
        "    grad_cols.append(f\"grad_{col}\")\n",
        "\n",
        "integ_cols = []\n",
        "for col in feature_names:\n",
        "    integ_cols.append(f\"integ_{col}\")\n",
        "    \n",
        "total_feature_names = feature_names + grad_cols + integ_cols\n",
        "\n",
        "for uid in tqdm(train['id'].unique()):\n",
        "    temp = train.loc[train['id']==uid, feature_names]\n",
        "    grad = np.gradient(temp, axis=0)\n",
        "    train.loc[train['id']==uid, grad_cols] = grad\n",
        "    \n",
        "for uid in tqdm(test['id'].unique()):\n",
        "    temp = test.loc[test['id']==uid, feature_names]\n",
        "    grad = np.gradient(temp, axis=0)\n",
        "    test.loc[test['id']==uid, grad_cols] = grad\n",
        "    \n",
        "print(train.shape, test.shape)\n",
        "train.head()\n",
        "\n",
        "for uid in tqdm(train['id'].unique()):\n",
        "    temp = train.loc[train['id']==uid, feature_names]\n",
        "    integ = cumtrapz(temp, initial=0, axis=0)\n",
        "    train.loc[train['id']==uid, integ_cols] = integ\n",
        "    \n",
        "for uid in tqdm(test['id'].unique()):\n",
        "    temp = test.loc[test['id']==uid, feature_names]\n",
        "    integ = cumtrapz(temp, initial=0, axis=0)\n",
        "    test.loc[test['id']==uid, integ_cols] = integ\n",
        "    \n",
        "print(train.shape, test.shape)\n",
        "train"
      ],
      "execution_count": null,
      "outputs": [
        {
          "output_type": "stream",
          "name": "stderr",
          "text": [
            " 12%|█▏        | 837/6707 [06:27<45:20,  2.16it/s]\n"
          ]
        },
        {
          "output_type": "error",
          "ename": "KeyboardInterrupt",
          "evalue": "ignored",
          "traceback": [
            "\u001b[0;31m---------------------------------------------------------------------------\u001b[0m",
            "\u001b[0;31mKeyboardInterrupt\u001b[0m                         Traceback (most recent call last)",
            "\u001b[0;32m<ipython-input-26-f3e07a0ed1e3>\u001b[0m in \u001b[0;36m<module>\u001b[0;34m()\u001b[0m\n\u001b[1;32m     15\u001b[0m     \u001b[0mtemp\u001b[0m \u001b[0;34m=\u001b[0m \u001b[0mtrain\u001b[0m\u001b[0;34m.\u001b[0m\u001b[0mloc\u001b[0m\u001b[0;34m[\u001b[0m\u001b[0mtrain\u001b[0m\u001b[0;34m[\u001b[0m\u001b[0;34m'id'\u001b[0m\u001b[0;34m]\u001b[0m\u001b[0;34m==\u001b[0m\u001b[0muid\u001b[0m\u001b[0;34m,\u001b[0m \u001b[0mfeature_names\u001b[0m\u001b[0;34m]\u001b[0m\u001b[0;34m\u001b[0m\u001b[0;34m\u001b[0m\u001b[0m\n\u001b[1;32m     16\u001b[0m     \u001b[0mgrad\u001b[0m \u001b[0;34m=\u001b[0m \u001b[0mnp\u001b[0m\u001b[0;34m.\u001b[0m\u001b[0mgradient\u001b[0m\u001b[0;34m(\u001b[0m\u001b[0mtemp\u001b[0m\u001b[0;34m,\u001b[0m \u001b[0maxis\u001b[0m\u001b[0;34m=\u001b[0m\u001b[0;36m0\u001b[0m\u001b[0;34m)\u001b[0m\u001b[0;34m\u001b[0m\u001b[0;34m\u001b[0m\u001b[0m\n\u001b[0;32m---> 17\u001b[0;31m     \u001b[0mtrain\u001b[0m\u001b[0;34m.\u001b[0m\u001b[0mloc\u001b[0m\u001b[0;34m[\u001b[0m\u001b[0mtrain\u001b[0m\u001b[0;34m[\u001b[0m\u001b[0;34m'id'\u001b[0m\u001b[0;34m]\u001b[0m\u001b[0;34m==\u001b[0m\u001b[0muid\u001b[0m\u001b[0;34m,\u001b[0m \u001b[0mgrad_cols\u001b[0m\u001b[0;34m]\u001b[0m \u001b[0;34m=\u001b[0m \u001b[0mgrad\u001b[0m\u001b[0;34m\u001b[0m\u001b[0;34m\u001b[0m\u001b[0m\n\u001b[0m\u001b[1;32m     18\u001b[0m \u001b[0;34m\u001b[0m\u001b[0m\n\u001b[1;32m     19\u001b[0m \u001b[0;32mfor\u001b[0m \u001b[0muid\u001b[0m \u001b[0;32min\u001b[0m \u001b[0mtqdm\u001b[0m\u001b[0;34m(\u001b[0m\u001b[0mtest\u001b[0m\u001b[0;34m[\u001b[0m\u001b[0;34m'id'\u001b[0m\u001b[0;34m]\u001b[0m\u001b[0;34m.\u001b[0m\u001b[0munique\u001b[0m\u001b[0;34m(\u001b[0m\u001b[0;34m)\u001b[0m\u001b[0;34m)\u001b[0m\u001b[0;34m:\u001b[0m\u001b[0;34m\u001b[0m\u001b[0;34m\u001b[0m\u001b[0m\n",
            "\u001b[0;32m/usr/local/lib/python3.7/dist-packages/pandas/core/ops/common.py\u001b[0m in \u001b[0;36mnew_method\u001b[0;34m(self, other)\u001b[0m\n\u001b[1;32m     63\u001b[0m         \u001b[0mother\u001b[0m \u001b[0;34m=\u001b[0m \u001b[0mitem_from_zerodim\u001b[0m\u001b[0;34m(\u001b[0m\u001b[0mother\u001b[0m\u001b[0;34m)\u001b[0m\u001b[0;34m\u001b[0m\u001b[0;34m\u001b[0m\u001b[0m\n\u001b[1;32m     64\u001b[0m \u001b[0;34m\u001b[0m\u001b[0m\n\u001b[0;32m---> 65\u001b[0;31m         \u001b[0;32mreturn\u001b[0m \u001b[0mmethod\u001b[0m\u001b[0;34m(\u001b[0m\u001b[0mself\u001b[0m\u001b[0;34m,\u001b[0m \u001b[0mother\u001b[0m\u001b[0;34m)\u001b[0m\u001b[0;34m\u001b[0m\u001b[0;34m\u001b[0m\u001b[0m\n\u001b[0m\u001b[1;32m     66\u001b[0m \u001b[0;34m\u001b[0m\u001b[0m\n\u001b[1;32m     67\u001b[0m     \u001b[0;32mreturn\u001b[0m \u001b[0mnew_method\u001b[0m\u001b[0;34m\u001b[0m\u001b[0;34m\u001b[0m\u001b[0m\n",
            "\u001b[0;32m/usr/local/lib/python3.7/dist-packages/pandas/core/ops/__init__.py\u001b[0m in \u001b[0;36mwrapper\u001b[0;34m(self, other)\u001b[0m\n\u001b[1;32m    368\u001b[0m         \u001b[0mrvalues\u001b[0m \u001b[0;34m=\u001b[0m \u001b[0mextract_array\u001b[0m\u001b[0;34m(\u001b[0m\u001b[0mother\u001b[0m\u001b[0;34m,\u001b[0m \u001b[0mextract_numpy\u001b[0m\u001b[0;34m=\u001b[0m\u001b[0;32mTrue\u001b[0m\u001b[0;34m)\u001b[0m\u001b[0;34m\u001b[0m\u001b[0;34m\u001b[0m\u001b[0m\n\u001b[1;32m    369\u001b[0m \u001b[0;34m\u001b[0m\u001b[0m\n\u001b[0;32m--> 370\u001b[0;31m         \u001b[0mres_values\u001b[0m \u001b[0;34m=\u001b[0m \u001b[0mcomparison_op\u001b[0m\u001b[0;34m(\u001b[0m\u001b[0mlvalues\u001b[0m\u001b[0;34m,\u001b[0m \u001b[0mrvalues\u001b[0m\u001b[0;34m,\u001b[0m \u001b[0mop\u001b[0m\u001b[0;34m)\u001b[0m\u001b[0;34m\u001b[0m\u001b[0;34m\u001b[0m\u001b[0m\n\u001b[0m\u001b[1;32m    371\u001b[0m \u001b[0;34m\u001b[0m\u001b[0m\n\u001b[1;32m    372\u001b[0m         \u001b[0;32mreturn\u001b[0m \u001b[0mself\u001b[0m\u001b[0;34m.\u001b[0m\u001b[0m_construct_result\u001b[0m\u001b[0;34m(\u001b[0m\u001b[0mres_values\u001b[0m\u001b[0;34m,\u001b[0m \u001b[0mname\u001b[0m\u001b[0;34m=\u001b[0m\u001b[0mres_name\u001b[0m\u001b[0;34m)\u001b[0m\u001b[0;34m\u001b[0m\u001b[0;34m\u001b[0m\u001b[0m\n",
            "\u001b[0;32m/usr/local/lib/python3.7/dist-packages/pandas/core/ops/array_ops.py\u001b[0m in \u001b[0;36mcomparison_op\u001b[0;34m(left, right, op)\u001b[0m\n\u001b[1;32m    249\u001b[0m             \u001b[0mwarnings\u001b[0m\u001b[0;34m.\u001b[0m\u001b[0msimplefilter\u001b[0m\u001b[0;34m(\u001b[0m\u001b[0;34m\"ignore\"\u001b[0m\u001b[0;34m,\u001b[0m \u001b[0mDeprecationWarning\u001b[0m\u001b[0;34m)\u001b[0m\u001b[0;34m\u001b[0m\u001b[0;34m\u001b[0m\u001b[0m\n\u001b[1;32m    250\u001b[0m             \u001b[0;32mwith\u001b[0m \u001b[0mnp\u001b[0m\u001b[0;34m.\u001b[0m\u001b[0merrstate\u001b[0m\u001b[0;34m(\u001b[0m\u001b[0mall\u001b[0m\u001b[0;34m=\u001b[0m\u001b[0;34m\"ignore\"\u001b[0m\u001b[0;34m)\u001b[0m\u001b[0;34m:\u001b[0m\u001b[0;34m\u001b[0m\u001b[0;34m\u001b[0m\u001b[0m\n\u001b[0;32m--> 251\u001b[0;31m                 \u001b[0mres_values\u001b[0m \u001b[0;34m=\u001b[0m \u001b[0mna_arithmetic_op\u001b[0m\u001b[0;34m(\u001b[0m\u001b[0mlvalues\u001b[0m\u001b[0;34m,\u001b[0m \u001b[0mrvalues\u001b[0m\u001b[0;34m,\u001b[0m \u001b[0mop\u001b[0m\u001b[0;34m,\u001b[0m \u001b[0mis_cmp\u001b[0m\u001b[0;34m=\u001b[0m\u001b[0;32mTrue\u001b[0m\u001b[0;34m)\u001b[0m\u001b[0;34m\u001b[0m\u001b[0;34m\u001b[0m\u001b[0m\n\u001b[0m\u001b[1;32m    252\u001b[0m \u001b[0;34m\u001b[0m\u001b[0m\n\u001b[1;32m    253\u001b[0m     \u001b[0;32mreturn\u001b[0m \u001b[0mres_values\u001b[0m\u001b[0;34m\u001b[0m\u001b[0;34m\u001b[0m\u001b[0m\n",
            "\u001b[0;32m/usr/local/lib/python3.7/dist-packages/pandas/core/ops/array_ops.py\u001b[0m in \u001b[0;36mna_arithmetic_op\u001b[0;34m(left, right, op, is_cmp)\u001b[0m\n\u001b[1;32m    141\u001b[0m \u001b[0;34m\u001b[0m\u001b[0m\n\u001b[1;32m    142\u001b[0m     \u001b[0;32mtry\u001b[0m\u001b[0;34m:\u001b[0m\u001b[0;34m\u001b[0m\u001b[0;34m\u001b[0m\u001b[0m\n\u001b[0;32m--> 143\u001b[0;31m         \u001b[0mresult\u001b[0m \u001b[0;34m=\u001b[0m \u001b[0mexpressions\u001b[0m\u001b[0;34m.\u001b[0m\u001b[0mevaluate\u001b[0m\u001b[0;34m(\u001b[0m\u001b[0mop\u001b[0m\u001b[0;34m,\u001b[0m \u001b[0mleft\u001b[0m\u001b[0;34m,\u001b[0m \u001b[0mright\u001b[0m\u001b[0;34m)\u001b[0m\u001b[0;34m\u001b[0m\u001b[0;34m\u001b[0m\u001b[0m\n\u001b[0m\u001b[1;32m    144\u001b[0m     \u001b[0;32mexcept\u001b[0m \u001b[0mTypeError\u001b[0m\u001b[0;34m:\u001b[0m\u001b[0;34m\u001b[0m\u001b[0;34m\u001b[0m\u001b[0m\n\u001b[1;32m    145\u001b[0m         \u001b[0;32mif\u001b[0m \u001b[0mis_cmp\u001b[0m\u001b[0;34m:\u001b[0m\u001b[0;34m\u001b[0m\u001b[0;34m\u001b[0m\u001b[0m\n",
            "\u001b[0;32m/usr/local/lib/python3.7/dist-packages/pandas/core/computation/expressions.py\u001b[0m in \u001b[0;36mevaluate\u001b[0;34m(op, a, b, use_numexpr)\u001b[0m\n\u001b[1;32m    231\u001b[0m         \u001b[0muse_numexpr\u001b[0m \u001b[0;34m=\u001b[0m \u001b[0muse_numexpr\u001b[0m \u001b[0;32mand\u001b[0m \u001b[0m_bool_arith_check\u001b[0m\u001b[0;34m(\u001b[0m\u001b[0mop_str\u001b[0m\u001b[0;34m,\u001b[0m \u001b[0ma\u001b[0m\u001b[0;34m,\u001b[0m \u001b[0mb\u001b[0m\u001b[0;34m)\u001b[0m\u001b[0;34m\u001b[0m\u001b[0;34m\u001b[0m\u001b[0m\n\u001b[1;32m    232\u001b[0m         \u001b[0;32mif\u001b[0m \u001b[0muse_numexpr\u001b[0m\u001b[0;34m:\u001b[0m\u001b[0;34m\u001b[0m\u001b[0;34m\u001b[0m\u001b[0m\n\u001b[0;32m--> 233\u001b[0;31m             \u001b[0;32mreturn\u001b[0m \u001b[0m_evaluate\u001b[0m\u001b[0;34m(\u001b[0m\u001b[0mop\u001b[0m\u001b[0;34m,\u001b[0m \u001b[0mop_str\u001b[0m\u001b[0;34m,\u001b[0m \u001b[0ma\u001b[0m\u001b[0;34m,\u001b[0m \u001b[0mb\u001b[0m\u001b[0;34m)\u001b[0m  \u001b[0;31m# type: ignore\u001b[0m\u001b[0;34m\u001b[0m\u001b[0;34m\u001b[0m\u001b[0m\n\u001b[0m\u001b[1;32m    234\u001b[0m     \u001b[0;32mreturn\u001b[0m \u001b[0m_evaluate_standard\u001b[0m\u001b[0;34m(\u001b[0m\u001b[0mop\u001b[0m\u001b[0;34m,\u001b[0m \u001b[0mop_str\u001b[0m\u001b[0;34m,\u001b[0m \u001b[0ma\u001b[0m\u001b[0;34m,\u001b[0m \u001b[0mb\u001b[0m\u001b[0;34m)\u001b[0m\u001b[0;34m\u001b[0m\u001b[0;34m\u001b[0m\u001b[0m\n\u001b[1;32m    235\u001b[0m \u001b[0;34m\u001b[0m\u001b[0m\n",
            "\u001b[0;32m/usr/local/lib/python3.7/dist-packages/pandas/core/computation/expressions.py\u001b[0m in \u001b[0;36m_evaluate_numexpr\u001b[0;34m(op, op_str, a, b)\u001b[0m\n\u001b[1;32m    110\u001b[0m             \u001b[0;34mf\"a_value {op_str} b_value\"\u001b[0m\u001b[0;34m,\u001b[0m\u001b[0;34m\u001b[0m\u001b[0;34m\u001b[0m\u001b[0m\n\u001b[1;32m    111\u001b[0m             \u001b[0mlocal_dict\u001b[0m\u001b[0;34m=\u001b[0m\u001b[0;34m{\u001b[0m\u001b[0;34m\"a_value\"\u001b[0m\u001b[0;34m:\u001b[0m \u001b[0ma_value\u001b[0m\u001b[0;34m,\u001b[0m \u001b[0;34m\"b_value\"\u001b[0m\u001b[0;34m:\u001b[0m \u001b[0mb_value\u001b[0m\u001b[0;34m}\u001b[0m\u001b[0;34m,\u001b[0m\u001b[0;34m\u001b[0m\u001b[0;34m\u001b[0m\u001b[0m\n\u001b[0;32m--> 112\u001b[0;31m             \u001b[0mcasting\u001b[0m\u001b[0;34m=\u001b[0m\u001b[0;34m\"safe\"\u001b[0m\u001b[0;34m,\u001b[0m\u001b[0;34m\u001b[0m\u001b[0;34m\u001b[0m\u001b[0m\n\u001b[0m\u001b[1;32m    113\u001b[0m         )\n\u001b[1;32m    114\u001b[0m \u001b[0;34m\u001b[0m\u001b[0m\n",
            "\u001b[0;32m/usr/local/lib/python3.7/dist-packages/numexpr/necompiler.py\u001b[0m in \u001b[0;36mevaluate\u001b[0;34m(ex, local_dict, global_dict, out, order, casting, **kwargs)\u001b[0m\n\u001b[1;32m    834\u001b[0m     \u001b[0m_numexpr_last\u001b[0m \u001b[0;34m=\u001b[0m \u001b[0mdict\u001b[0m\u001b[0;34m(\u001b[0m\u001b[0mex\u001b[0m\u001b[0;34m=\u001b[0m\u001b[0mcompiled_ex\u001b[0m\u001b[0;34m,\u001b[0m \u001b[0margnames\u001b[0m\u001b[0;34m=\u001b[0m\u001b[0mnames\u001b[0m\u001b[0;34m,\u001b[0m \u001b[0mkwargs\u001b[0m\u001b[0;34m=\u001b[0m\u001b[0mkwargs\u001b[0m\u001b[0;34m)\u001b[0m\u001b[0;34m\u001b[0m\u001b[0;34m\u001b[0m\u001b[0m\n\u001b[1;32m    835\u001b[0m     \u001b[0;32mwith\u001b[0m \u001b[0mevaluate_lock\u001b[0m\u001b[0;34m:\u001b[0m\u001b[0;34m\u001b[0m\u001b[0;34m\u001b[0m\u001b[0m\n\u001b[0;32m--> 836\u001b[0;31m         \u001b[0;32mreturn\u001b[0m \u001b[0mcompiled_ex\u001b[0m\u001b[0;34m(\u001b[0m\u001b[0;34m*\u001b[0m\u001b[0marguments\u001b[0m\u001b[0;34m,\u001b[0m \u001b[0;34m**\u001b[0m\u001b[0mkwargs\u001b[0m\u001b[0;34m)\u001b[0m\u001b[0;34m\u001b[0m\u001b[0;34m\u001b[0m\u001b[0m\n\u001b[0m\u001b[1;32m    837\u001b[0m \u001b[0;34m\u001b[0m\u001b[0m\n\u001b[1;32m    838\u001b[0m \u001b[0;34m\u001b[0m\u001b[0m\n",
            "\u001b[0;31mKeyboardInterrupt\u001b[0m: "
          ]
        }
      ]
    },
    {
      "cell_type": "code",
      "metadata": {
        "id": "ZkVZ1vGPinyo",
        "colab": {
          "base_uri": "https://localhost:8080/"
        },
        "outputId": "80266d98-877a-4997-a095-f76355f5a907"
      },
      "source": [
        "# 가속도 feature 추가\n",
        "train['acc_t']  = train.apply(lambda x : (x['acc_x']**2 + x['acc_y'] **2 +  x['acc_z'] ** 2 )**(1/3), axis=1)\n",
        "test['acc_t']  = test.apply(lambda x : (x['acc_x']**2 + x['acc_y'] **2 +  x['acc_z'] ** 2 )**(1/3), axis=1)\n",
        "\n",
        "display(train)\n",
        "display(test)"
      ],
      "execution_count": null,
      "outputs": [
        {
          "output_type": "error",
          "ename": "KeyboardInterrupt",
          "evalue": "ignored",
          "traceback": [
            "\u001b[0;31m---------------------------------------------------------------------------\u001b[0m",
            "\u001b[0;31mKeyboardInterrupt\u001b[0m                         Traceback (most recent call last)",
            "\u001b[0;32m<ipython-input-28-95063e774c79>\u001b[0m in \u001b[0;36m<module>\u001b[0;34m()\u001b[0m\n\u001b[1;32m      1\u001b[0m \u001b[0;31m# 가속도 feature 추가\u001b[0m\u001b[0;34m\u001b[0m\u001b[0;34m\u001b[0m\u001b[0;34m\u001b[0m\u001b[0m\n\u001b[0;32m----> 2\u001b[0;31m \u001b[0mtrain\u001b[0m\u001b[0;34m[\u001b[0m\u001b[0;34m'acc_t'\u001b[0m\u001b[0;34m]\u001b[0m  \u001b[0;34m=\u001b[0m \u001b[0mtrain\u001b[0m\u001b[0;34m.\u001b[0m\u001b[0mapply\u001b[0m\u001b[0;34m(\u001b[0m\u001b[0;32mlambda\u001b[0m \u001b[0mx\u001b[0m \u001b[0;34m:\u001b[0m \u001b[0;34m(\u001b[0m\u001b[0mx\u001b[0m\u001b[0;34m[\u001b[0m\u001b[0;34m'acc_x'\u001b[0m\u001b[0;34m]\u001b[0m\u001b[0;34m**\u001b[0m\u001b[0;36m2\u001b[0m \u001b[0;34m+\u001b[0m \u001b[0mx\u001b[0m\u001b[0;34m[\u001b[0m\u001b[0;34m'acc_y'\u001b[0m\u001b[0;34m]\u001b[0m \u001b[0;34m**\u001b[0m\u001b[0;36m2\u001b[0m \u001b[0;34m+\u001b[0m  \u001b[0mx\u001b[0m\u001b[0;34m[\u001b[0m\u001b[0;34m'acc_z'\u001b[0m\u001b[0;34m]\u001b[0m \u001b[0;34m**\u001b[0m \u001b[0;36m2\u001b[0m \u001b[0;34m)\u001b[0m\u001b[0;34m**\u001b[0m\u001b[0;34m(\u001b[0m\u001b[0;36m1\u001b[0m\u001b[0;34m/\u001b[0m\u001b[0;36m3\u001b[0m\u001b[0;34m)\u001b[0m\u001b[0;34m,\u001b[0m \u001b[0maxis\u001b[0m\u001b[0;34m=\u001b[0m\u001b[0;36m1\u001b[0m\u001b[0;34m)\u001b[0m\u001b[0;34m\u001b[0m\u001b[0;34m\u001b[0m\u001b[0m\n\u001b[0m\u001b[1;32m      3\u001b[0m \u001b[0mtest\u001b[0m\u001b[0;34m[\u001b[0m\u001b[0;34m'acc_t'\u001b[0m\u001b[0;34m]\u001b[0m  \u001b[0;34m=\u001b[0m \u001b[0mtest\u001b[0m\u001b[0;34m.\u001b[0m\u001b[0mapply\u001b[0m\u001b[0;34m(\u001b[0m\u001b[0;32mlambda\u001b[0m \u001b[0mx\u001b[0m \u001b[0;34m:\u001b[0m \u001b[0;34m(\u001b[0m\u001b[0mx\u001b[0m\u001b[0;34m[\u001b[0m\u001b[0;34m'acc_x'\u001b[0m\u001b[0;34m]\u001b[0m\u001b[0;34m**\u001b[0m\u001b[0;36m2\u001b[0m \u001b[0;34m+\u001b[0m \u001b[0mx\u001b[0m\u001b[0;34m[\u001b[0m\u001b[0;34m'acc_y'\u001b[0m\u001b[0;34m]\u001b[0m \u001b[0;34m**\u001b[0m\u001b[0;36m2\u001b[0m \u001b[0;34m+\u001b[0m  \u001b[0mx\u001b[0m\u001b[0;34m[\u001b[0m\u001b[0;34m'acc_z'\u001b[0m\u001b[0;34m]\u001b[0m \u001b[0;34m**\u001b[0m \u001b[0;36m2\u001b[0m \u001b[0;34m)\u001b[0m\u001b[0;34m**\u001b[0m\u001b[0;34m(\u001b[0m\u001b[0;36m1\u001b[0m\u001b[0;34m/\u001b[0m\u001b[0;36m3\u001b[0m\u001b[0;34m)\u001b[0m\u001b[0;34m,\u001b[0m \u001b[0maxis\u001b[0m\u001b[0;34m=\u001b[0m\u001b[0;36m1\u001b[0m\u001b[0;34m)\u001b[0m\u001b[0;34m\u001b[0m\u001b[0;34m\u001b[0m\u001b[0m\n\u001b[1;32m      4\u001b[0m \u001b[0;34m\u001b[0m\u001b[0m\n\u001b[1;32m      5\u001b[0m \u001b[0mdisplay\u001b[0m\u001b[0;34m(\u001b[0m\u001b[0mtrain\u001b[0m\u001b[0;34m)\u001b[0m\u001b[0;34m\u001b[0m\u001b[0;34m\u001b[0m\u001b[0m\n",
            "\u001b[0;32m/usr/local/lib/python3.7/dist-packages/pandas/core/frame.py\u001b[0m in \u001b[0;36mapply\u001b[0;34m(self, func, axis, raw, result_type, args, **kwds)\u001b[0m\n\u001b[1;32m   7550\u001b[0m             \u001b[0mkwds\u001b[0m\u001b[0;34m=\u001b[0m\u001b[0mkwds\u001b[0m\u001b[0;34m,\u001b[0m\u001b[0;34m\u001b[0m\u001b[0;34m\u001b[0m\u001b[0m\n\u001b[1;32m   7551\u001b[0m         )\n\u001b[0;32m-> 7552\u001b[0;31m         \u001b[0;32mreturn\u001b[0m \u001b[0mop\u001b[0m\u001b[0;34m.\u001b[0m\u001b[0mget_result\u001b[0m\u001b[0;34m(\u001b[0m\u001b[0;34m)\u001b[0m\u001b[0;34m\u001b[0m\u001b[0;34m\u001b[0m\u001b[0m\n\u001b[0m\u001b[1;32m   7553\u001b[0m \u001b[0;34m\u001b[0m\u001b[0m\n\u001b[1;32m   7554\u001b[0m     \u001b[0;32mdef\u001b[0m \u001b[0mapplymap\u001b[0m\u001b[0;34m(\u001b[0m\u001b[0mself\u001b[0m\u001b[0;34m,\u001b[0m \u001b[0mfunc\u001b[0m\u001b[0;34m)\u001b[0m \u001b[0;34m->\u001b[0m \u001b[0;34m\"DataFrame\"\u001b[0m\u001b[0;34m:\u001b[0m\u001b[0;34m\u001b[0m\u001b[0;34m\u001b[0m\u001b[0m\n",
            "\u001b[0;32m/usr/local/lib/python3.7/dist-packages/pandas/core/apply.py\u001b[0m in \u001b[0;36mget_result\u001b[0;34m(self)\u001b[0m\n\u001b[1;32m    183\u001b[0m             \u001b[0;32mreturn\u001b[0m \u001b[0mself\u001b[0m\u001b[0;34m.\u001b[0m\u001b[0mapply_raw\u001b[0m\u001b[0;34m(\u001b[0m\u001b[0;34m)\u001b[0m\u001b[0;34m\u001b[0m\u001b[0;34m\u001b[0m\u001b[0m\n\u001b[1;32m    184\u001b[0m \u001b[0;34m\u001b[0m\u001b[0m\n\u001b[0;32m--> 185\u001b[0;31m         \u001b[0;32mreturn\u001b[0m \u001b[0mself\u001b[0m\u001b[0;34m.\u001b[0m\u001b[0mapply_standard\u001b[0m\u001b[0;34m(\u001b[0m\u001b[0;34m)\u001b[0m\u001b[0;34m\u001b[0m\u001b[0;34m\u001b[0m\u001b[0m\n\u001b[0m\u001b[1;32m    186\u001b[0m \u001b[0;34m\u001b[0m\u001b[0m\n\u001b[1;32m    187\u001b[0m     \u001b[0;32mdef\u001b[0m \u001b[0mapply_empty_result\u001b[0m\u001b[0;34m(\u001b[0m\u001b[0mself\u001b[0m\u001b[0;34m)\u001b[0m\u001b[0;34m:\u001b[0m\u001b[0;34m\u001b[0m\u001b[0;34m\u001b[0m\u001b[0m\n",
            "\u001b[0;32m/usr/local/lib/python3.7/dist-packages/pandas/core/apply.py\u001b[0m in \u001b[0;36mapply_standard\u001b[0;34m(self)\u001b[0m\n\u001b[1;32m    274\u001b[0m \u001b[0;34m\u001b[0m\u001b[0m\n\u001b[1;32m    275\u001b[0m     \u001b[0;32mdef\u001b[0m \u001b[0mapply_standard\u001b[0m\u001b[0;34m(\u001b[0m\u001b[0mself\u001b[0m\u001b[0;34m)\u001b[0m\u001b[0;34m:\u001b[0m\u001b[0;34m\u001b[0m\u001b[0;34m\u001b[0m\u001b[0m\n\u001b[0;32m--> 276\u001b[0;31m         \u001b[0mresults\u001b[0m\u001b[0;34m,\u001b[0m \u001b[0mres_index\u001b[0m \u001b[0;34m=\u001b[0m \u001b[0mself\u001b[0m\u001b[0;34m.\u001b[0m\u001b[0mapply_series_generator\u001b[0m\u001b[0;34m(\u001b[0m\u001b[0;34m)\u001b[0m\u001b[0;34m\u001b[0m\u001b[0;34m\u001b[0m\u001b[0m\n\u001b[0m\u001b[1;32m    277\u001b[0m \u001b[0;34m\u001b[0m\u001b[0m\n\u001b[1;32m    278\u001b[0m         \u001b[0;31m# wrap results\u001b[0m\u001b[0;34m\u001b[0m\u001b[0;34m\u001b[0m\u001b[0;34m\u001b[0m\u001b[0m\n",
            "\u001b[0;32m/usr/local/lib/python3.7/dist-packages/pandas/core/apply.py\u001b[0m in \u001b[0;36mapply_series_generator\u001b[0;34m(self)\u001b[0m\n\u001b[1;32m    301\u001b[0m         \u001b[0;32melse\u001b[0m\u001b[0;34m:\u001b[0m\u001b[0;34m\u001b[0m\u001b[0;34m\u001b[0m\u001b[0m\n\u001b[1;32m    302\u001b[0m             \u001b[0;32mwith\u001b[0m \u001b[0moption_context\u001b[0m\u001b[0;34m(\u001b[0m\u001b[0;34m\"mode.chained_assignment\"\u001b[0m\u001b[0;34m,\u001b[0m \u001b[0;32mNone\u001b[0m\u001b[0;34m)\u001b[0m\u001b[0;34m:\u001b[0m\u001b[0;34m\u001b[0m\u001b[0;34m\u001b[0m\u001b[0m\n\u001b[0;32m--> 303\u001b[0;31m                 \u001b[0;32mfor\u001b[0m \u001b[0mi\u001b[0m\u001b[0;34m,\u001b[0m \u001b[0mv\u001b[0m \u001b[0;32min\u001b[0m \u001b[0menumerate\u001b[0m\u001b[0;34m(\u001b[0m\u001b[0mseries_gen\u001b[0m\u001b[0;34m)\u001b[0m\u001b[0;34m:\u001b[0m\u001b[0;34m\u001b[0m\u001b[0;34m\u001b[0m\u001b[0m\n\u001b[0m\u001b[1;32m    304\u001b[0m                     \u001b[0;31m# ignore SettingWithCopy here in case the user mutates\u001b[0m\u001b[0;34m\u001b[0m\u001b[0;34m\u001b[0m\u001b[0;34m\u001b[0m\u001b[0m\n\u001b[1;32m    305\u001b[0m                     \u001b[0mresults\u001b[0m\u001b[0;34m[\u001b[0m\u001b[0mi\u001b[0m\u001b[0;34m]\u001b[0m \u001b[0;34m=\u001b[0m \u001b[0mself\u001b[0m\u001b[0;34m.\u001b[0m\u001b[0mf\u001b[0m\u001b[0;34m(\u001b[0m\u001b[0mv\u001b[0m\u001b[0;34m)\u001b[0m\u001b[0;34m\u001b[0m\u001b[0;34m\u001b[0m\u001b[0m\n",
            "\u001b[0;32m/usr/local/lib/python3.7/dist-packages/pandas/core/apply.py\u001b[0m in \u001b[0;36mseries_generator\u001b[0;34m(self)\u001b[0m\n\u001b[1;32m    425\u001b[0m                 \u001b[0mser\u001b[0m\u001b[0;34m.\u001b[0m\u001b[0m_mgr\u001b[0m \u001b[0;34m=\u001b[0m \u001b[0mmgr\u001b[0m\u001b[0;34m\u001b[0m\u001b[0;34m\u001b[0m\u001b[0m\n\u001b[1;32m    426\u001b[0m                 \u001b[0mblk\u001b[0m\u001b[0;34m.\u001b[0m\u001b[0mvalues\u001b[0m \u001b[0;34m=\u001b[0m \u001b[0marr\u001b[0m\u001b[0;34m\u001b[0m\u001b[0;34m\u001b[0m\u001b[0m\n\u001b[0;32m--> 427\u001b[0;31m                 \u001b[0mser\u001b[0m\u001b[0;34m.\u001b[0m\u001b[0mname\u001b[0m \u001b[0;34m=\u001b[0m \u001b[0mname\u001b[0m\u001b[0;34m\u001b[0m\u001b[0;34m\u001b[0m\u001b[0m\n\u001b[0m\u001b[1;32m    428\u001b[0m                 \u001b[0;32myield\u001b[0m \u001b[0mser\u001b[0m\u001b[0;34m\u001b[0m\u001b[0;34m\u001b[0m\u001b[0m\n\u001b[1;32m    429\u001b[0m \u001b[0;34m\u001b[0m\u001b[0m\n",
            "\u001b[0;32m/usr/local/lib/python3.7/dist-packages/pandas/core/generic.py\u001b[0m in \u001b[0;36m__setattr__\u001b[0;34m(self, name, value)\u001b[0m\n\u001b[1;32m   5152\u001b[0m         \u001b[0;32mtry\u001b[0m\u001b[0;34m:\u001b[0m\u001b[0;34m\u001b[0m\u001b[0;34m\u001b[0m\u001b[0m\n\u001b[1;32m   5153\u001b[0m             \u001b[0mobject\u001b[0m\u001b[0;34m.\u001b[0m\u001b[0m__getattribute__\u001b[0m\u001b[0;34m(\u001b[0m\u001b[0mself\u001b[0m\u001b[0;34m,\u001b[0m \u001b[0mname\u001b[0m\u001b[0;34m)\u001b[0m\u001b[0;34m\u001b[0m\u001b[0;34m\u001b[0m\u001b[0m\n\u001b[0;32m-> 5154\u001b[0;31m             \u001b[0;32mreturn\u001b[0m \u001b[0mobject\u001b[0m\u001b[0;34m.\u001b[0m\u001b[0m__setattr__\u001b[0m\u001b[0;34m(\u001b[0m\u001b[0mself\u001b[0m\u001b[0;34m,\u001b[0m \u001b[0mname\u001b[0m\u001b[0;34m,\u001b[0m \u001b[0mvalue\u001b[0m\u001b[0;34m)\u001b[0m\u001b[0;34m\u001b[0m\u001b[0;34m\u001b[0m\u001b[0m\n\u001b[0m\u001b[1;32m   5155\u001b[0m         \u001b[0;32mexcept\u001b[0m \u001b[0mAttributeError\u001b[0m\u001b[0;34m:\u001b[0m\u001b[0;34m\u001b[0m\u001b[0;34m\u001b[0m\u001b[0m\n\u001b[1;32m   5156\u001b[0m             \u001b[0;32mpass\u001b[0m\u001b[0;34m\u001b[0m\u001b[0;34m\u001b[0m\u001b[0m\n",
            "\u001b[0;32m/usr/local/lib/python3.7/dist-packages/pandas/core/series.py\u001b[0m in \u001b[0;36mname\u001b[0;34m(self, value)\u001b[0m\n\u001b[1;32m    492\u001b[0m     \u001b[0;34m@\u001b[0m\u001b[0mname\u001b[0m\u001b[0;34m.\u001b[0m\u001b[0msetter\u001b[0m\u001b[0;34m\u001b[0m\u001b[0;34m\u001b[0m\u001b[0m\n\u001b[1;32m    493\u001b[0m     \u001b[0;32mdef\u001b[0m \u001b[0mname\u001b[0m\u001b[0;34m(\u001b[0m\u001b[0mself\u001b[0m\u001b[0;34m,\u001b[0m \u001b[0mvalue\u001b[0m\u001b[0;34m:\u001b[0m \u001b[0mLabel\u001b[0m\u001b[0;34m)\u001b[0m \u001b[0;34m->\u001b[0m \u001b[0;32mNone\u001b[0m\u001b[0;34m:\u001b[0m\u001b[0;34m\u001b[0m\u001b[0;34m\u001b[0m\u001b[0m\n\u001b[0;32m--> 494\u001b[0;31m         \u001b[0;32mif\u001b[0m \u001b[0;32mnot\u001b[0m \u001b[0mis_hashable\u001b[0m\u001b[0;34m(\u001b[0m\u001b[0mvalue\u001b[0m\u001b[0;34m)\u001b[0m\u001b[0;34m:\u001b[0m\u001b[0;34m\u001b[0m\u001b[0;34m\u001b[0m\u001b[0m\n\u001b[0m\u001b[1;32m    495\u001b[0m             \u001b[0;32mraise\u001b[0m \u001b[0mTypeError\u001b[0m\u001b[0;34m(\u001b[0m\u001b[0;34m\"Series.name must be a hashable type\"\u001b[0m\u001b[0;34m)\u001b[0m\u001b[0;34m\u001b[0m\u001b[0;34m\u001b[0m\u001b[0m\n\u001b[1;32m    496\u001b[0m         \u001b[0mobject\u001b[0m\u001b[0;34m.\u001b[0m\u001b[0m__setattr__\u001b[0m\u001b[0;34m(\u001b[0m\u001b[0mself\u001b[0m\u001b[0;34m,\u001b[0m \u001b[0;34m\"_name\"\u001b[0m\u001b[0;34m,\u001b[0m \u001b[0mvalue\u001b[0m\u001b[0;34m)\u001b[0m\u001b[0;34m\u001b[0m\u001b[0;34m\u001b[0m\u001b[0m\n",
            "\u001b[0;31mKeyboardInterrupt\u001b[0m: "
          ]
        }
      ]
    },
    {
      "cell_type": "code",
      "metadata": {
        "colab": {
          "base_uri": "https://localhost:8080/",
          "height": 244
        },
        "id": "lKMPqDoad-vY",
        "outputId": "9c02489e-a515-4ce0-f188-2e2b097c1974"
      },
      "source": [
        "out_list = []\n",
        "for i in range(3125):\n",
        "  label = train_label.loc[(train_label['id'] == i),'label'].values[0,1] \n",
        "  out_list.append(label)\n",
        "\n",
        "out_list = np.array(out_list)\n",
        "#out_list = np.expand_dims(np.array(out_list), axis = 1)\n",
        "label = torch.from_numpy(out_list)  "
      ],
      "execution_count": 1,
      "outputs": [
        {
          "output_type": "error",
          "ename": "NameError",
          "evalue": "ignored",
          "traceback": [
            "\u001b[0;31m---------------------------------------------------------------------------\u001b[0m",
            "\u001b[0;31mNameError\u001b[0m                                 Traceback (most recent call last)",
            "\u001b[0;32m<ipython-input-1-2091107fe5e1>\u001b[0m in \u001b[0;36m<module>\u001b[0;34m()\u001b[0m\n\u001b[1;32m      1\u001b[0m \u001b[0mout_list\u001b[0m \u001b[0;34m=\u001b[0m \u001b[0;34m[\u001b[0m\u001b[0;34m]\u001b[0m\u001b[0;34m\u001b[0m\u001b[0;34m\u001b[0m\u001b[0m\n\u001b[1;32m      2\u001b[0m \u001b[0;32mfor\u001b[0m \u001b[0mi\u001b[0m \u001b[0;32min\u001b[0m \u001b[0mrange\u001b[0m\u001b[0;34m(\u001b[0m\u001b[0;36m3125\u001b[0m\u001b[0;34m)\u001b[0m\u001b[0;34m:\u001b[0m\u001b[0;34m\u001b[0m\u001b[0;34m\u001b[0m\u001b[0m\n\u001b[0;32m----> 3\u001b[0;31m   \u001b[0mlabel\u001b[0m \u001b[0;34m=\u001b[0m \u001b[0mtrain_label\u001b[0m\u001b[0;34m.\u001b[0m\u001b[0mloc\u001b[0m\u001b[0;34m[\u001b[0m\u001b[0;34m(\u001b[0m\u001b[0mtrain_label\u001b[0m\u001b[0;34m[\u001b[0m\u001b[0;34m'id'\u001b[0m\u001b[0;34m]\u001b[0m \u001b[0;34m==\u001b[0m \u001b[0mi\u001b[0m\u001b[0;34m)\u001b[0m\u001b[0;34m,\u001b[0m\u001b[0;34m'label'\u001b[0m\u001b[0;34m]\u001b[0m\u001b[0;34m.\u001b[0m\u001b[0mvalues\u001b[0m\u001b[0;34m[\u001b[0m\u001b[0;36m0\u001b[0m\u001b[0;34m,\u001b[0m\u001b[0;36m1\u001b[0m\u001b[0;34m]\u001b[0m\u001b[0;34m\u001b[0m\u001b[0;34m\u001b[0m\u001b[0m\n\u001b[0m\u001b[1;32m      4\u001b[0m   \u001b[0mout_list\u001b[0m\u001b[0;34m.\u001b[0m\u001b[0mappend\u001b[0m\u001b[0;34m(\u001b[0m\u001b[0mlabel\u001b[0m\u001b[0;34m)\u001b[0m\u001b[0;34m\u001b[0m\u001b[0;34m\u001b[0m\u001b[0m\n\u001b[1;32m      5\u001b[0m \u001b[0;34m\u001b[0m\u001b[0m\n",
            "\u001b[0;31mNameError\u001b[0m: name 'train_label' is not defined"
          ]
        }
      ]
    },
    {
      "cell_type": "markdown",
      "metadata": {
        "id": "bFm7rGxQeuJx"
      },
      "source": [
        "# **모델링**"
      ]
    },
    {
      "cell_type": "code",
      "metadata": {
        "id": "YQhbZrHhjOHq"
      },
      "source": [
        "import tensorflow as tf\n",
        "from keras.models import Sequential\n",
        "from keras.layers import Dense, LSTM\n",
        "\n",
        "from sklearn.model_selection import StratifiedKFold, KFold, TimeSeriesSplit"
      ],
      "execution_count": 84,
      "outputs": []
    },
    {
      "cell_type": "code",
      "metadata": {
        "id": "ZBa4sG8NjSjk",
        "colab": {
          "base_uri": "https://localhost:8080/"
        },
        "outputId": "86dc0638-bd7f-418c-c522-50a701c976df"
      },
      "source": [
        "X=tf.reshape(np.array(train.iloc[:,2:]),[-1, 600, 6])\n",
        "X.shape"
      ],
      "execution_count": 92,
      "outputs": [
        {
          "output_type": "execute_result",
          "data": {
            "text/plain": [
              "TensorShape([15625, 600, 6])"
            ]
          },
          "metadata": {},
          "execution_count": 92
        }
      ]
    },
    {
      "cell_type": "code",
      "metadata": {
        "colab": {
          "base_uri": "https://localhost:8080/"
        },
        "id": "tNbE2semvphn",
        "outputId": "d558a173-4e59-4d9e-de35-c3a4fac5b988"
      },
      "source": [
        "X"
      ],
      "execution_count": 100,
      "outputs": [
        {
          "output_type": "execute_result",
          "data": {
            "text/plain": [
              "<tf.Tensor: shape=(15625, 600, 6), dtype=float64, numpy=\n",
              "array([[[ 2.30731395, -0.02993881, -0.43210379,  0.01177622,\n",
              "         -0.41085858, -0.4610072 ],\n",
              "        [ 2.4210864 , -0.06332135, -0.50405798,  0.02648401,\n",
              "         -0.52805221, -0.36545902],\n",
              "        [ 2.44466434, -0.05674912, -0.65419852, -0.03796168,\n",
              "         -0.59604099, -0.36676736],\n",
              "        ...,\n",
              "        [ 2.05575702, -0.11248977, -0.86824633, -0.01687033,\n",
              "          0.35747663,  0.25548326],\n",
              "        [ 2.0639965 , -0.3849975 , -0.70599774, -0.13813005,\n",
              "          0.39743717,  0.2795442 ],\n",
              "        [ 2.21261634, -0.45138645, -1.02856324, -0.23972529,\n",
              "          0.30164036,  0.44223528]],\n",
              "\n",
              "       [[ 0.33064398,  0.14140239,  1.6908822 ,  0.32120987,\n",
              "          0.14522763,  0.09208015],\n",
              "        [ 0.26767452,  0.24393001,  1.57986243,  0.45752436,\n",
              "          0.01929959,  0.09996467],\n",
              "        [ 0.2676167 ,  0.2731228 ,  1.58803352,  0.31031839,\n",
              "         -0.0480151 ,  0.01551869],\n",
              "        ...,\n",
              "        [ 0.32086312, -0.89070166,  1.36179087,  1.13015303,\n",
              "         -0.34221708, -0.15856941],\n",
              "        [ 0.3675877 , -0.39227669,  1.62867509,  1.37257358,\n",
              "         -0.81088859, -0.25347525],\n",
              "        [ 0.65497166,  0.00852949,  1.75114351,  1.31503676,\n",
              "         -0.87010476, -0.29438956]],\n",
              "\n",
              "       [[ 0.96242662, -0.47016984,  1.56933474, -0.20994753,\n",
              "         -2.58099445, -0.33133806],\n",
              "        [ 0.96741795, -0.22046394,  1.60077984,  0.36077282,\n",
              "         -2.45459233, -0.27993861],\n",
              "        [ 1.01736954,  0.21694522,  1.53085177,  0.65444261,\n",
              "         -2.47349225, -0.17657599],\n",
              "        ...,\n",
              "        [ 0.6218061 , -0.21937752,  2.137774  , -0.20360658,\n",
              "          1.80968687,  0.19609476],\n",
              "        [ 0.43524351, -0.64256425,  1.86815792,  0.40269881,\n",
              "          1.93775971,  0.34253831],\n",
              "        [ 0.20411632,  0.23057742,  1.71211596,  0.69740996,\n",
              "          1.83604807,  0.15515351]],\n",
              "\n",
              "       ...,\n",
              "\n",
              "       [[-1.19723004, -0.3011548 ,  0.695088  , -4.24107654,\n",
              "         -3.86525598,  3.01472633],\n",
              "        [-1.05306966, -0.39200732,  0.6616455 , -4.07370263,\n",
              "         -3.98566954,  2.98967382],\n",
              "        [-0.95266387, -0.43596873,  0.58791104, -3.65459363,\n",
              "         -4.13960376,  2.93491469],\n",
              "        ...,\n",
              "        [-2.45321719, -0.53879921,  0.17404473,  1.40000502,\n",
              "          5.5220775 , -2.7541751 ],\n",
              "        [-2.18733696, -0.63226603,  0.03735804,  2.36252896,\n",
              "          5.1421097 , -2.61807443],\n",
              "        [-1.91509394, -0.6711434 ,  0.09730367,  2.70639251,\n",
              "          4.90427158, -2.56523978]],\n",
              "\n",
              "       [[ 0.26266377,  1.34414904, -1.11746286, -1.65739492,\n",
              "          2.91322776, -1.01651605],\n",
              "        [ 0.34126437,  1.46716356, -1.13544418, -1.31046836,\n",
              "          3.07709305, -0.92212535],\n",
              "        [ 0.28649089,  1.6517832 , -1.12218165, -1.36463531,\n",
              "          3.19105502, -0.72059042],\n",
              "        ...,\n",
              "        [-0.45633976,  0.83034454, -0.85027254, -0.10516562,\n",
              "         -0.44110977, -0.80335946],\n",
              "        [-0.49440833,  0.78805248, -0.80510036,  0.02109881,\n",
              "         -0.45453703, -0.70841203],\n",
              "        [-0.52070307,  0.83056912, -0.77898843,  0.17478772,\n",
              "         -0.43366993, -0.62837642]],\n",
              "\n",
              "       [[-0.5169539 , -0.55190563,  0.76013771,  0.2499094 ,\n",
              "         -1.29000644, -0.70533155],\n",
              "        [-0.49110236, -0.63338639,  0.85666213,  0.16303053,\n",
              "         -1.35492663, -0.74311244],\n",
              "        [-0.46288817, -0.70262952,  0.91190371,  0.12060847,\n",
              "         -1.41573214, -0.78116561],\n",
              "        ...,\n",
              "        [-0.18020245, -1.0368787 ,  0.6836394 , -0.41019447,\n",
              "         -1.52810987, -1.1862284 ],\n",
              "        [-0.14865824, -1.0700444 ,  0.699096  , -0.3475318 ,\n",
              "         -1.53327032, -1.19718492],\n",
              "        [-0.10377977, -1.10678195,  0.71649318, -0.26060273,\n",
              "         -1.54897169, -1.20103349]]])>"
            ]
          },
          "metadata": {},
          "execution_count": 100
        }
      ]
    },
    {
      "cell_type": "code",
      "metadata": {
        "colab": {
          "base_uri": "https://localhost:8080/"
        },
        "id": "s9J9qBNvwaO8",
        "outputId": "41bead31-4814-4aac-d6c0-0a7e133c3b06"
      },
      "source": [
        "X[0,:,:]"
      ],
      "execution_count": 99,
      "outputs": [
        {
          "output_type": "execute_result",
          "data": {
            "text/plain": [
              "<tf.Tensor: shape=(600, 6), dtype=float64, numpy=\n",
              "array([[ 2.30731395, -0.02993881, -0.43210379,  0.01177622, -0.41085858,\n",
              "        -0.4610072 ],\n",
              "       [ 2.4210864 , -0.06332135, -0.50405798,  0.02648401, -0.52805221,\n",
              "        -0.36545902],\n",
              "       [ 2.44466434, -0.05674912, -0.65419852, -0.03796168, -0.59604099,\n",
              "        -0.36676736],\n",
              "       ...,\n",
              "       [ 2.05575702, -0.11248977, -0.86824633, -0.01687033,  0.35747663,\n",
              "         0.25548326],\n",
              "       [ 2.0639965 , -0.3849975 , -0.70599774, -0.13813005,  0.39743717,\n",
              "         0.2795442 ],\n",
              "       [ 2.21261634, -0.45138645, -1.02856324, -0.23972529,  0.30164036,\n",
              "         0.44223528]])>"
            ]
          },
          "metadata": {},
          "execution_count": 99
        }
      ]
    },
    {
      "cell_type": "code",
      "metadata": {
        "colab": {
          "base_uri": "https://localhost:8080/"
        },
        "id": "pPgXaAAlfFgh",
        "outputId": "b6def778-3453-4328-b1f2-caeb0297a34c"
      },
      "source": [
        "y = tf.keras.utils.to_categorical(train_labels['label']) \n",
        "y.shape"
      ],
      "execution_count": 73,
      "outputs": [
        {
          "output_type": "execute_result",
          "data": {
            "text/plain": [
              "(15625, 61)"
            ]
          },
          "metadata": {},
          "execution_count": 73
        }
      ]
    },
    {
      "cell_type": "code",
      "metadata": {
        "colab": {
          "base_uri": "https://localhost:8080/",
          "height": 419
        },
        "id": "_x3yYYOfysJh",
        "outputId": "df3b6ccb-af3d-4bb8-b2fd-dc213f07a168"
      },
      "source": [
        "train_labels"
      ],
      "execution_count": 74,
      "outputs": [
        {
          "output_type": "execute_result",
          "data": {
            "text/html": [
              "<div>\n",
              "<style scoped>\n",
              "    .dataframe tbody tr th:only-of-type {\n",
              "        vertical-align: middle;\n",
              "    }\n",
              "\n",
              "    .dataframe tbody tr th {\n",
              "        vertical-align: top;\n",
              "    }\n",
              "\n",
              "    .dataframe thead th {\n",
              "        text-align: right;\n",
              "    }\n",
              "</style>\n",
              "<table border=\"1\" class=\"dataframe\">\n",
              "  <thead>\n",
              "    <tr style=\"text-align: right;\">\n",
              "      <th></th>\n",
              "      <th>index</th>\n",
              "      <th>id</th>\n",
              "      <th>label</th>\n",
              "      <th>label_desc</th>\n",
              "    </tr>\n",
              "  </thead>\n",
              "  <tbody>\n",
              "    <tr>\n",
              "      <th>0</th>\n",
              "      <td>0</td>\n",
              "      <td>0</td>\n",
              "      <td>37</td>\n",
              "      <td>Shoulder Press (dumbbell)</td>\n",
              "    </tr>\n",
              "    <tr>\n",
              "      <th>1</th>\n",
              "      <td>1</td>\n",
              "      <td>1</td>\n",
              "      <td>26</td>\n",
              "      <td>Non-Exercise</td>\n",
              "    </tr>\n",
              "    <tr>\n",
              "      <th>2</th>\n",
              "      <td>2</td>\n",
              "      <td>2</td>\n",
              "      <td>3</td>\n",
              "      <td>Biceps Curl (band)</td>\n",
              "    </tr>\n",
              "    <tr>\n",
              "      <th>3</th>\n",
              "      <td>3</td>\n",
              "      <td>3</td>\n",
              "      <td>26</td>\n",
              "      <td>Non-Exercise</td>\n",
              "    </tr>\n",
              "    <tr>\n",
              "      <th>4</th>\n",
              "      <td>4</td>\n",
              "      <td>4</td>\n",
              "      <td>26</td>\n",
              "      <td>Non-Exercise</td>\n",
              "    </tr>\n",
              "    <tr>\n",
              "      <th>...</th>\n",
              "      <td>...</td>\n",
              "      <td>...</td>\n",
              "      <td>...</td>\n",
              "      <td>...</td>\n",
              "    </tr>\n",
              "    <tr>\n",
              "      <th>15620</th>\n",
              "      <td>15620</td>\n",
              "      <td>3120</td>\n",
              "      <td>26</td>\n",
              "      <td>Non-Exercise</td>\n",
              "    </tr>\n",
              "    <tr>\n",
              "      <th>15621</th>\n",
              "      <td>15621</td>\n",
              "      <td>3121</td>\n",
              "      <td>26</td>\n",
              "      <td>Non-Exercise</td>\n",
              "    </tr>\n",
              "    <tr>\n",
              "      <th>15622</th>\n",
              "      <td>15622</td>\n",
              "      <td>3122</td>\n",
              "      <td>15</td>\n",
              "      <td>Dynamic Stretch (at your own pace)</td>\n",
              "    </tr>\n",
              "    <tr>\n",
              "      <th>15623</th>\n",
              "      <td>15623</td>\n",
              "      <td>3123</td>\n",
              "      <td>26</td>\n",
              "      <td>Non-Exercise</td>\n",
              "    </tr>\n",
              "    <tr>\n",
              "      <th>15624</th>\n",
              "      <td>15624</td>\n",
              "      <td>3124</td>\n",
              "      <td>2</td>\n",
              "      <td>Bicep Curl</td>\n",
              "    </tr>\n",
              "  </tbody>\n",
              "</table>\n",
              "<p>15625 rows × 4 columns</p>\n",
              "</div>"
            ],
            "text/plain": [
              "       index    id  label                          label_desc\n",
              "0          0     0     37           Shoulder Press (dumbbell)\n",
              "1          1     1     26                        Non-Exercise\n",
              "2          2     2      3                  Biceps Curl (band)\n",
              "3          3     3     26                        Non-Exercise\n",
              "4          4     4     26                        Non-Exercise\n",
              "...      ...   ...    ...                                 ...\n",
              "15620  15620  3120     26                        Non-Exercise\n",
              "15621  15621  3121     26                        Non-Exercise\n",
              "15622  15622  3122     15  Dynamic Stretch (at your own pace)\n",
              "15623  15623  3123     26                        Non-Exercise\n",
              "15624  15624  3124      2                          Bicep Curl\n",
              "\n",
              "[15625 rows x 4 columns]"
            ]
          },
          "metadata": {},
          "execution_count": 74
        }
      ]
    },
    {
      "cell_type": "code",
      "metadata": {
        "id": "b-v_K2OjfG4W"
      },
      "source": [
        "#가벼운 모델 생성\n",
        "model = Sequential()\n",
        "model.add(LSTM(32, input_shape=(600,7)))\n",
        "model.add(Dense(128, activation='relu'))\n",
        "model.add(Dense(61, activation='softmax'))\n",
        "\n",
        "model.compile(optimizer='rmsprop', loss='categorical_crossentropy', metrics=['accuracy'])"
      ],
      "execution_count": 75,
      "outputs": []
    },
    {
      "cell_type": "code",
      "metadata": {
        "colab": {
          "base_uri": "https://localhost:8080/",
          "height": 556
        },
        "id": "3uEpkQftjYcL",
        "outputId": "e00ed539-50ae-4ea8-c6b6-4e0a7acd3aa1"
      },
      "source": [
        "stfold = StratifiedKFold(n_splits=10, shuffle=True)\n",
        "idx_iter = 0 \n",
        "skf_accuracy=[]\n",
        "\n",
        "for train_idx, valid_idx in stfold.split(X, train_labels['label']) :\n",
        "  idx_iter += 1 \n",
        "  print(train_idx)\n",
        "  print(valid_idx)\n",
        "  \n",
        "  Y_train, Y_valid = np.array(pd.get_dummies(train_labels['label']))[train_idx], np.array(pd.get_dummies(train_labels['label']))[valid_idx]\n",
        "  print(Y_train)\n",
        "\n",
        "  X_train, X_valid = X[train_idx, :, :], X[valid_idx, :, :]\n",
        "  print(X_train)\n",
        "  \n",
        "  model.fit(X_train, Y_train, epochs=1000, batch_size=2048, validation_split=0.2)\n",
        "  pred = model.predict(X_test)\n",
        "\n",
        "  # 반복 시 마다 정확도 측정 \n",
        "  idx_iter += 1 \n",
        "  skf_accuracy = np.round(accuracy_score(Y_test, pred), 4)\n",
        "  train_size = X_train.shape[0]\n",
        "  test_tize = X_test.shape[0]\n",
        "\n",
        "  print(\"\\n#{0} 교차 검증 정확도 :{1}, 학습 데이터 크기: {2}, 검증 데이터 크기: {3}\" .format(idx_iter, accuracy, train_size, test_size))\n",
        "  print('#{0} 검증 세트 인덱스:{1}'.format(idx_iter, test_index))\n",
        "  skf_accuracy.append(accuracy)\n"
      ],
      "execution_count": 104,
      "outputs": [
        {
          "output_type": "stream",
          "name": "stdout",
          "text": [
            "[    0     2     3 ... 15622 15623 15624]\n",
            "[    1    12    32 ... 15562 15609 15617]\n",
            "[[0 0 0 ... 0 0 0]\n",
            " [0 0 0 ... 0 0 0]\n",
            " [0 0 0 ... 0 0 0]\n",
            " ...\n",
            " [0 0 0 ... 0 0 0]\n",
            " [0 0 0 ... 0 0 0]\n",
            " [0 0 1 ... 0 0 0]]\n"
          ]
        },
        {
          "output_type": "error",
          "ename": "TypeError",
          "evalue": "ignored",
          "traceback": [
            "\u001b[0;31m---------------------------------------------------------------------------\u001b[0m",
            "\u001b[0;31mTypeError\u001b[0m                                 Traceback (most recent call last)",
            "\u001b[0;32m<ipython-input-104-6cdbe8c0dc93>\u001b[0m in \u001b[0;36m<module>\u001b[0;34m()\u001b[0m\n\u001b[1;32m     10\u001b[0m   \u001b[0mY_train\u001b[0m\u001b[0;34m,\u001b[0m \u001b[0mY_valid\u001b[0m \u001b[0;34m=\u001b[0m \u001b[0mnp\u001b[0m\u001b[0;34m.\u001b[0m\u001b[0marray\u001b[0m\u001b[0;34m(\u001b[0m\u001b[0mpd\u001b[0m\u001b[0;34m.\u001b[0m\u001b[0mget_dummies\u001b[0m\u001b[0;34m(\u001b[0m\u001b[0mtrain_labels\u001b[0m\u001b[0;34m[\u001b[0m\u001b[0;34m'label'\u001b[0m\u001b[0;34m]\u001b[0m\u001b[0;34m)\u001b[0m\u001b[0;34m)\u001b[0m\u001b[0;34m[\u001b[0m\u001b[0mtrain_idx\u001b[0m\u001b[0;34m]\u001b[0m\u001b[0;34m,\u001b[0m \u001b[0mnp\u001b[0m\u001b[0;34m.\u001b[0m\u001b[0marray\u001b[0m\u001b[0;34m(\u001b[0m\u001b[0mpd\u001b[0m\u001b[0;34m.\u001b[0m\u001b[0mget_dummies\u001b[0m\u001b[0;34m(\u001b[0m\u001b[0mtrain_labels\u001b[0m\u001b[0;34m[\u001b[0m\u001b[0;34m'label'\u001b[0m\u001b[0;34m]\u001b[0m\u001b[0;34m)\u001b[0m\u001b[0;34m)\u001b[0m\u001b[0;34m[\u001b[0m\u001b[0mvalid_idx\u001b[0m\u001b[0;34m]\u001b[0m\u001b[0;34m\u001b[0m\u001b[0;34m\u001b[0m\u001b[0m\n\u001b[1;32m     11\u001b[0m   \u001b[0mprint\u001b[0m\u001b[0;34m(\u001b[0m\u001b[0mY_train\u001b[0m\u001b[0;34m)\u001b[0m\u001b[0;34m\u001b[0m\u001b[0;34m\u001b[0m\u001b[0m\n\u001b[0;32m---> 12\u001b[0;31m   \u001b[0mX_train\u001b[0m\u001b[0;34m,\u001b[0m \u001b[0mX_valid\u001b[0m \u001b[0;34m=\u001b[0m \u001b[0mX\u001b[0m\u001b[0;34m[\u001b[0m\u001b[0mtrain_idx\u001b[0m\u001b[0;34m,\u001b[0m \u001b[0;34m:\u001b[0m\u001b[0;34m,\u001b[0m \u001b[0;34m:\u001b[0m\u001b[0;34m]\u001b[0m\u001b[0;34m,\u001b[0m \u001b[0mX\u001b[0m\u001b[0;34m[\u001b[0m\u001b[0mvalid_idx\u001b[0m\u001b[0;34m,\u001b[0m \u001b[0;34m:\u001b[0m\u001b[0;34m,\u001b[0m \u001b[0;34m:\u001b[0m\u001b[0;34m]\u001b[0m\u001b[0;34m\u001b[0m\u001b[0;34m\u001b[0m\u001b[0m\n\u001b[0m\u001b[1;32m     13\u001b[0m \u001b[0;34m\u001b[0m\u001b[0m\n\u001b[1;32m     14\u001b[0m   \u001b[0mprint\u001b[0m\u001b[0;34m(\u001b[0m\u001b[0mX_train\u001b[0m\u001b[0;34m)\u001b[0m\u001b[0;34m\u001b[0m\u001b[0;34m\u001b[0m\u001b[0m\n",
            "\u001b[0;32m/usr/local/lib/python3.7/dist-packages/tensorflow/python/util/dispatch.py\u001b[0m in \u001b[0;36mwrapper\u001b[0;34m(*args, **kwargs)\u001b[0m\n\u001b[1;32m    204\u001b[0m     \u001b[0;34m\"\"\"Call target, and fall back on dispatchers if there is a TypeError.\"\"\"\u001b[0m\u001b[0;34m\u001b[0m\u001b[0;34m\u001b[0m\u001b[0m\n\u001b[1;32m    205\u001b[0m     \u001b[0;32mtry\u001b[0m\u001b[0;34m:\u001b[0m\u001b[0;34m\u001b[0m\u001b[0;34m\u001b[0m\u001b[0m\n\u001b[0;32m--> 206\u001b[0;31m       \u001b[0;32mreturn\u001b[0m \u001b[0mtarget\u001b[0m\u001b[0;34m(\u001b[0m\u001b[0;34m*\u001b[0m\u001b[0margs\u001b[0m\u001b[0;34m,\u001b[0m \u001b[0;34m**\u001b[0m\u001b[0mkwargs\u001b[0m\u001b[0;34m)\u001b[0m\u001b[0;34m\u001b[0m\u001b[0;34m\u001b[0m\u001b[0m\n\u001b[0m\u001b[1;32m    207\u001b[0m     \u001b[0;32mexcept\u001b[0m \u001b[0;34m(\u001b[0m\u001b[0mTypeError\u001b[0m\u001b[0;34m,\u001b[0m \u001b[0mValueError\u001b[0m\u001b[0;34m)\u001b[0m\u001b[0;34m:\u001b[0m\u001b[0;34m\u001b[0m\u001b[0;34m\u001b[0m\u001b[0m\n\u001b[1;32m    208\u001b[0m       \u001b[0;31m# Note: convert_to_eager_tensor currently raises a ValueError, not a\u001b[0m\u001b[0;34m\u001b[0m\u001b[0;34m\u001b[0m\u001b[0;34m\u001b[0m\u001b[0m\n",
            "\u001b[0;32m/usr/local/lib/python3.7/dist-packages/tensorflow/python/ops/array_ops.py\u001b[0m in \u001b[0;36m_slice_helper\u001b[0;34m(tensor, slice_spec, var)\u001b[0m\n\u001b[1;32m   1012\u001b[0m       \u001b[0mnew_axis_mask\u001b[0m \u001b[0;34m|=\u001b[0m \u001b[0;34m(\u001b[0m\u001b[0;36m1\u001b[0m \u001b[0;34m<<\u001b[0m \u001b[0mindex\u001b[0m\u001b[0;34m)\u001b[0m\u001b[0;34m\u001b[0m\u001b[0;34m\u001b[0m\u001b[0m\n\u001b[1;32m   1013\u001b[0m     \u001b[0;32melse\u001b[0m\u001b[0;34m:\u001b[0m\u001b[0;34m\u001b[0m\u001b[0;34m\u001b[0m\u001b[0m\n\u001b[0;32m-> 1014\u001b[0;31m       \u001b[0m_check_index\u001b[0m\u001b[0;34m(\u001b[0m\u001b[0ms\u001b[0m\u001b[0;34m)\u001b[0m\u001b[0;34m\u001b[0m\u001b[0;34m\u001b[0m\u001b[0m\n\u001b[0m\u001b[1;32m   1015\u001b[0m       \u001b[0mbegin\u001b[0m\u001b[0;34m.\u001b[0m\u001b[0mappend\u001b[0m\u001b[0;34m(\u001b[0m\u001b[0ms\u001b[0m\u001b[0;34m)\u001b[0m\u001b[0;34m\u001b[0m\u001b[0;34m\u001b[0m\u001b[0m\n\u001b[1;32m   1016\u001b[0m       \u001b[0mend\u001b[0m\u001b[0;34m.\u001b[0m\u001b[0mappend\u001b[0m\u001b[0;34m(\u001b[0m\u001b[0ms\u001b[0m \u001b[0;34m+\u001b[0m \u001b[0;36m1\u001b[0m\u001b[0;34m)\u001b[0m\u001b[0;34m\u001b[0m\u001b[0;34m\u001b[0m\u001b[0m\n",
            "\u001b[0;32m/usr/local/lib/python3.7/dist-packages/tensorflow/python/ops/array_ops.py\u001b[0m in \u001b[0;36m_check_index\u001b[0;34m(idx)\u001b[0m\n\u001b[1;32m    886\u001b[0m     \u001b[0;31m# TODO(slebedev): IndexError seems more appropriate here, but it\u001b[0m\u001b[0;34m\u001b[0m\u001b[0;34m\u001b[0m\u001b[0;34m\u001b[0m\u001b[0m\n\u001b[1;32m    887\u001b[0m     \u001b[0;31m# will break `_slice_helper` contract.\u001b[0m\u001b[0;34m\u001b[0m\u001b[0;34m\u001b[0m\u001b[0;34m\u001b[0m\u001b[0m\n\u001b[0;32m--> 888\u001b[0;31m     \u001b[0;32mraise\u001b[0m \u001b[0mTypeError\u001b[0m\u001b[0;34m(\u001b[0m\u001b[0m_SLICE_TYPE_ERROR\u001b[0m \u001b[0;34m+\u001b[0m \u001b[0;34m\", got {!r}\"\u001b[0m\u001b[0;34m.\u001b[0m\u001b[0mformat\u001b[0m\u001b[0;34m(\u001b[0m\u001b[0midx\u001b[0m\u001b[0;34m)\u001b[0m\u001b[0;34m)\u001b[0m\u001b[0;34m\u001b[0m\u001b[0;34m\u001b[0m\u001b[0m\n\u001b[0m\u001b[1;32m    889\u001b[0m \u001b[0;34m\u001b[0m\u001b[0m\n\u001b[1;32m    890\u001b[0m \u001b[0;34m\u001b[0m\u001b[0m\n",
            "\u001b[0;31mTypeError\u001b[0m: Only integers, slices (`:`), ellipsis (`...`), tf.newaxis (`None`) and scalar tf.int32/tf.int64 tensors are valid indices, got array([    0,     2,     3, ..., 15622, 15623, 15624])"
          ]
        }
      ]
    },
    {
      "cell_type": "code",
      "metadata": {
        "colab": {
          "base_uri": "https://localhost:8080/",
          "height": 345
        },
        "id": "xM-ttqAlfKeR",
        "outputId": "ae2af7ff-e5d4-4d34-f75a-4c5012c620a8"
      },
      "source": [
        "test_X=tf.reshape(np.array(test.iloc[:,2:]),[-1, 600, 7])\n",
        "test_X.shape"
      ],
      "execution_count": null,
      "outputs": [
        {
          "output_type": "error",
          "ename": "InvalidArgumentError",
          "evalue": "ignored",
          "traceback": [
            "\u001b[0;31m---------------------------------------------------------------------------\u001b[0m",
            "\u001b[0;31mInvalidArgumentError\u001b[0m                      Traceback (most recent call last)",
            "\u001b[0;32m<ipython-input-29-5b30bde2964d>\u001b[0m in \u001b[0;36m<module>\u001b[0;34m()\u001b[0m\n\u001b[0;32m----> 1\u001b[0;31m \u001b[0mtest_X\u001b[0m\u001b[0;34m=\u001b[0m\u001b[0mtf\u001b[0m\u001b[0;34m.\u001b[0m\u001b[0mreshape\u001b[0m\u001b[0;34m(\u001b[0m\u001b[0mnp\u001b[0m\u001b[0;34m.\u001b[0m\u001b[0marray\u001b[0m\u001b[0;34m(\u001b[0m\u001b[0mtest\u001b[0m\u001b[0;34m.\u001b[0m\u001b[0miloc\u001b[0m\u001b[0;34m[\u001b[0m\u001b[0;34m:\u001b[0m\u001b[0;34m,\u001b[0m\u001b[0;36m2\u001b[0m\u001b[0;34m:\u001b[0m\u001b[0;34m]\u001b[0m\u001b[0;34m)\u001b[0m\u001b[0;34m,\u001b[0m\u001b[0;34m[\u001b[0m\u001b[0;34m-\u001b[0m\u001b[0;36m1\u001b[0m\u001b[0;34m,\u001b[0m \u001b[0;36m600\u001b[0m\u001b[0;34m,\u001b[0m \u001b[0;36m7\u001b[0m\u001b[0;34m]\u001b[0m\u001b[0;34m)\u001b[0m\u001b[0;34m\u001b[0m\u001b[0;34m\u001b[0m\u001b[0m\n\u001b[0m\u001b[1;32m      2\u001b[0m \u001b[0mtest_X\u001b[0m\u001b[0;34m.\u001b[0m\u001b[0mshape\u001b[0m\u001b[0;34m\u001b[0m\u001b[0;34m\u001b[0m\u001b[0m\n",
            "\u001b[0;32m/usr/local/lib/python3.7/dist-packages/tensorflow/python/util/dispatch.py\u001b[0m in \u001b[0;36mwrapper\u001b[0;34m(*args, **kwargs)\u001b[0m\n\u001b[1;32m    204\u001b[0m     \u001b[0;34m\"\"\"Call target, and fall back on dispatchers if there is a TypeError.\"\"\"\u001b[0m\u001b[0;34m\u001b[0m\u001b[0;34m\u001b[0m\u001b[0m\n\u001b[1;32m    205\u001b[0m     \u001b[0;32mtry\u001b[0m\u001b[0;34m:\u001b[0m\u001b[0;34m\u001b[0m\u001b[0;34m\u001b[0m\u001b[0m\n\u001b[0;32m--> 206\u001b[0;31m       \u001b[0;32mreturn\u001b[0m \u001b[0mtarget\u001b[0m\u001b[0;34m(\u001b[0m\u001b[0;34m*\u001b[0m\u001b[0margs\u001b[0m\u001b[0;34m,\u001b[0m \u001b[0;34m**\u001b[0m\u001b[0mkwargs\u001b[0m\u001b[0;34m)\u001b[0m\u001b[0;34m\u001b[0m\u001b[0;34m\u001b[0m\u001b[0m\n\u001b[0m\u001b[1;32m    207\u001b[0m     \u001b[0;32mexcept\u001b[0m \u001b[0;34m(\u001b[0m\u001b[0mTypeError\u001b[0m\u001b[0;34m,\u001b[0m \u001b[0mValueError\u001b[0m\u001b[0;34m)\u001b[0m\u001b[0;34m:\u001b[0m\u001b[0;34m\u001b[0m\u001b[0;34m\u001b[0m\u001b[0m\n\u001b[1;32m    208\u001b[0m       \u001b[0;31m# Note: convert_to_eager_tensor currently raises a ValueError, not a\u001b[0m\u001b[0;34m\u001b[0m\u001b[0;34m\u001b[0m\u001b[0;34m\u001b[0m\u001b[0m\n",
            "\u001b[0;32m/usr/local/lib/python3.7/dist-packages/tensorflow/python/ops/array_ops.py\u001b[0m in \u001b[0;36mreshape\u001b[0;34m(tensor, shape, name)\u001b[0m\n\u001b[1;32m    194\u001b[0m     \u001b[0mA\u001b[0m\u001b[0;31m \u001b[0m\u001b[0;31m`\u001b[0m\u001b[0mTensor\u001b[0m\u001b[0;31m`\u001b[0m\u001b[0;34m.\u001b[0m \u001b[0mHas\u001b[0m \u001b[0mthe\u001b[0m \u001b[0msame\u001b[0m \u001b[0mtype\u001b[0m \u001b[0;32mas\u001b[0m\u001b[0;31m \u001b[0m\u001b[0;31m`\u001b[0m\u001b[0mtensor\u001b[0m\u001b[0;31m`\u001b[0m\u001b[0;34m.\u001b[0m\u001b[0;34m\u001b[0m\u001b[0;34m\u001b[0m\u001b[0m\n\u001b[1;32m    195\u001b[0m   \"\"\"\n\u001b[0;32m--> 196\u001b[0;31m   \u001b[0mresult\u001b[0m \u001b[0;34m=\u001b[0m \u001b[0mgen_array_ops\u001b[0m\u001b[0;34m.\u001b[0m\u001b[0mreshape\u001b[0m\u001b[0;34m(\u001b[0m\u001b[0mtensor\u001b[0m\u001b[0;34m,\u001b[0m \u001b[0mshape\u001b[0m\u001b[0;34m,\u001b[0m \u001b[0mname\u001b[0m\u001b[0;34m)\u001b[0m\u001b[0;34m\u001b[0m\u001b[0;34m\u001b[0m\u001b[0m\n\u001b[0m\u001b[1;32m    197\u001b[0m   \u001b[0mtensor_util\u001b[0m\u001b[0;34m.\u001b[0m\u001b[0mmaybe_set_static_shape\u001b[0m\u001b[0;34m(\u001b[0m\u001b[0mresult\u001b[0m\u001b[0;34m,\u001b[0m \u001b[0mshape\u001b[0m\u001b[0;34m)\u001b[0m\u001b[0;34m\u001b[0m\u001b[0;34m\u001b[0m\u001b[0m\n\u001b[1;32m    198\u001b[0m   \u001b[0;32mreturn\u001b[0m \u001b[0mresult\u001b[0m\u001b[0;34m\u001b[0m\u001b[0;34m\u001b[0m\u001b[0m\n",
            "\u001b[0;32m/usr/local/lib/python3.7/dist-packages/tensorflow/python/ops/gen_array_ops.py\u001b[0m in \u001b[0;36mreshape\u001b[0;34m(tensor, shape, name)\u001b[0m\n\u001b[1;32m   8397\u001b[0m     \u001b[0;32mtry\u001b[0m\u001b[0;34m:\u001b[0m\u001b[0;34m\u001b[0m\u001b[0;34m\u001b[0m\u001b[0m\n\u001b[1;32m   8398\u001b[0m       return reshape_eager_fallback(\n\u001b[0;32m-> 8399\u001b[0;31m           tensor, shape, name=name, ctx=_ctx)\n\u001b[0m\u001b[1;32m   8400\u001b[0m     \u001b[0;32mexcept\u001b[0m \u001b[0m_core\u001b[0m\u001b[0;34m.\u001b[0m\u001b[0m_SymbolicException\u001b[0m\u001b[0;34m:\u001b[0m\u001b[0;34m\u001b[0m\u001b[0;34m\u001b[0m\u001b[0m\n\u001b[1;32m   8401\u001b[0m       \u001b[0;32mpass\u001b[0m  \u001b[0;31m# Add nodes to the TensorFlow graph.\u001b[0m\u001b[0;34m\u001b[0m\u001b[0;34m\u001b[0m\u001b[0m\n",
            "\u001b[0;32m/usr/local/lib/python3.7/dist-packages/tensorflow/python/ops/gen_array_ops.py\u001b[0m in \u001b[0;36mreshape_eager_fallback\u001b[0;34m(tensor, shape, name, ctx)\u001b[0m\n\u001b[1;32m   8422\u001b[0m   \u001b[0m_attrs\u001b[0m \u001b[0;34m=\u001b[0m \u001b[0;34m(\u001b[0m\u001b[0;34m\"T\"\u001b[0m\u001b[0;34m,\u001b[0m \u001b[0m_attr_T\u001b[0m\u001b[0;34m,\u001b[0m \u001b[0;34m\"Tshape\"\u001b[0m\u001b[0;34m,\u001b[0m \u001b[0m_attr_Tshape\u001b[0m\u001b[0;34m)\u001b[0m\u001b[0;34m\u001b[0m\u001b[0;34m\u001b[0m\u001b[0m\n\u001b[1;32m   8423\u001b[0m   _result = _execute.execute(b\"Reshape\", 1, inputs=_inputs_flat, attrs=_attrs,\n\u001b[0;32m-> 8424\u001b[0;31m                              ctx=ctx, name=name)\n\u001b[0m\u001b[1;32m   8425\u001b[0m   \u001b[0;32mif\u001b[0m \u001b[0m_execute\u001b[0m\u001b[0;34m.\u001b[0m\u001b[0mmust_record_gradient\u001b[0m\u001b[0;34m(\u001b[0m\u001b[0;34m)\u001b[0m\u001b[0;34m:\u001b[0m\u001b[0;34m\u001b[0m\u001b[0;34m\u001b[0m\u001b[0m\n\u001b[1;32m   8426\u001b[0m     _execute.record_gradient(\n",
            "\u001b[0;32m/usr/local/lib/python3.7/dist-packages/tensorflow/python/eager/execute.py\u001b[0m in \u001b[0;36mquick_execute\u001b[0;34m(op_name, num_outputs, inputs, attrs, ctx, name)\u001b[0m\n\u001b[1;32m     58\u001b[0m     \u001b[0mctx\u001b[0m\u001b[0;34m.\u001b[0m\u001b[0mensure_initialized\u001b[0m\u001b[0;34m(\u001b[0m\u001b[0;34m)\u001b[0m\u001b[0;34m\u001b[0m\u001b[0;34m\u001b[0m\u001b[0m\n\u001b[1;32m     59\u001b[0m     tensors = pywrap_tfe.TFE_Py_Execute(ctx._handle, device_name, op_name,\n\u001b[0;32m---> 60\u001b[0;31m                                         inputs, attrs, num_outputs)\n\u001b[0m\u001b[1;32m     61\u001b[0m   \u001b[0;32mexcept\u001b[0m \u001b[0mcore\u001b[0m\u001b[0;34m.\u001b[0m\u001b[0m_NotOkStatusException\u001b[0m \u001b[0;32mas\u001b[0m \u001b[0me\u001b[0m\u001b[0;34m:\u001b[0m\u001b[0;34m\u001b[0m\u001b[0;34m\u001b[0m\u001b[0m\n\u001b[1;32m     62\u001b[0m     \u001b[0;32mif\u001b[0m \u001b[0mname\u001b[0m \u001b[0;32mis\u001b[0m \u001b[0;32mnot\u001b[0m \u001b[0;32mNone\u001b[0m\u001b[0;34m:\u001b[0m\u001b[0;34m\u001b[0m\u001b[0;34m\u001b[0m\u001b[0m\n",
            "\u001b[0;31mInvalidArgumentError\u001b[0m: Input to reshape is a tensor with 2815200 values, but the requested shape requires a multiple of 4200 [Op:Reshape]"
          ]
        }
      ]
    },
    {
      "cell_type": "code",
      "metadata": {
        "id": "C0M_FUE_icyF"
      },
      "source": [
        "# #k-fold 교차검증\n",
        "skf = KFold(n_splits=5, shuffle=True)\n",
        "\n",
        "accuracy = []\n",
        "\n",
        "for train, validation in skf.split(X, Y):\n",
        "   model = Sequential()\n",
        "   model.add(Embedding(vocab_size, 100))\n",
        "   model.add(LSTM(128))    #model.add(Bidirectional(LSTM(128)))\n",
        "   model.add(Dense(1, activation='sigmoid'))\n",
        "\n",
        "   model.compile(optimizer='rmsprop', loss='binary_crossentropy', metrics=['acc'])\n",
        "\n",
        "#   # 학습 데이터를 이용해서 학습\n",
        "   history = model.fit(X_train, y_train, epochs=15, callbacks=[es, mc], batch_size=60, validation_split=0.2)\n",
        "   model.fit(X[train], Y[train], epochs=100, batch_size=5)\n"
      ],
      "execution_count": null,
      "outputs": []
    },
    {
      "cell_type": "code",
      "metadata": {
        "id": "z7v3BE5OfLjF"
      },
      "source": [
        "prediction=model.predict(test_X)\n",
        "prediction"
      ],
      "execution_count": null,
      "outputs": []
    },
    {
      "cell_type": "code",
      "metadata": {
        "id": "ftcMYNLLfMwr"
      },
      "source": [
        "prediction.shape"
      ],
      "execution_count": null,
      "outputs": []
    },
    {
      "cell_type": "code",
      "metadata": {
        "id": "Ism0rjyYfNy5"
      },
      "source": [
        "submission.iloc[:,1:]=prediction"
      ],
      "execution_count": null,
      "outputs": []
    },
    {
      "cell_type": "code",
      "metadata": {
        "id": "lk6fnI8ofO9D"
      },
      "source": [
        "submission"
      ],
      "execution_count": null,
      "outputs": []
    },
    {
      "cell_type": "code",
      "metadata": {
        "id": "fa5PjFuqfP63"
      },
      "source": [
        "submission.to_csv('baseline_aug_1.csv', index=False)"
      ],
      "execution_count": null,
      "outputs": []
    }
  ]
}